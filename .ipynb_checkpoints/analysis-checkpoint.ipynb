{
 "cells": [
  {
   "cell_type": "markdown",
   "metadata": {},
   "source": [
    "Notes/To do:\n",
    "- in SVM hyperparameter study, generic init_clf is not used but instead svm.SVC(), since for some reason init_clf does not work on svm.SVC. NOTE THAT THIS IS HARD-CODED IN HYPERPARAM_EXPLORER"
   ]
  },
  {
   "cell_type": "markdown",
   "metadata": {
    "heading_collapsed": true
   },
   "source": [
    "# Preamble"
   ]
  },
  {
   "cell_type": "code",
   "execution_count": 49,
   "metadata": {
    "collapsed": true,
    "hidden": true
   },
   "outputs": [],
   "source": [
    "import pickle\n",
    "import numpy as np\n",
    "import matplotlib.pyplot as plt\n",
    "import pandas as pd\n",
    "import itertools as it\n",
    "from sklearn import datasets\n",
    "from sklearn import svm\n",
    "from sklearn import tree\n",
    "from sklearn import ensemble\n",
    "from sklearn import neighbors\n",
    "from sklearn import neural_network\n",
    "from sklearn import model_selection\n",
    "from sklearn.model_selection import GridSearchCV\n",
    "from sklearn.model_selection import cross_val_score\n",
    "from hyperparams import hyperparam_explorer # my package\n",
    "from hyperparams import hyperparam_cv_gs\n",
    "from hyperparams import init_clf\n",
    "%config InlineBackend.figure_format = 'retina'"
   ]
  },
  {
   "cell_type": "markdown",
   "metadata": {
    "heading_collapsed": true
   },
   "source": [
    "# Config"
   ]
  },
  {
   "cell_type": "code",
   "execution_count": 50,
   "metadata": {
    "collapsed": true,
    "hidden": true
   },
   "outputs": [],
   "source": [
    "# Config\n",
    "RND_SEED        = 0\n",
    "CLF_DICT        = {'svm': svm.SVC(),\n",
    "                   'dt':  tree.DecisionTreeClassifier(),\n",
    "                   'rf':  ensemble.RandomForestClassifier(),\n",
    "                   'knn': neighbors.KNeighborsClassifier(),\n",
    "                   'ann': neural_network.MLPClassifier()}"
   ]
  },
  {
   "cell_type": "markdown",
   "metadata": {
    "heading_collapsed": true
   },
   "source": [
    "# Methods"
   ]
  },
  {
   "cell_type": "code",
   "execution_count": 51,
   "metadata": {
    "collapsed": true,
    "hidden": true
   },
   "outputs": [],
   "source": [
    "def shuffle(df):\n",
    "    \"\"\"\n",
    "    Shuffles dataset using seed specified in RND_SEED (see config part above).\n",
    "    \n",
    "        df:  Dataset to be shuffled.\n",
    "        \n",
    "    Returns shuffled dataset.\n",
    "    \"\"\"\n",
    "    \n",
    "    return(df.sample(frac=1, random_state=np.random.RandomState(seed=RND_SEED)))"
   ]
  },
  {
   "cell_type": "markdown",
   "metadata": {
    "heading_collapsed": true
   },
   "source": [
    "# Data preparation"
   ]
  },
  {
   "cell_type": "markdown",
   "metadata": {
    "heading_collapsed": true,
    "hidden": true
   },
   "source": [
    "## wdbc: Wisconsin Breast Cancer data"
   ]
  },
  {
   "cell_type": "code",
   "execution_count": 52,
   "metadata": {
    "hidden": true
   },
   "outputs": [
    {
     "name": "stdout",
     "output_type": "stream",
     "text": [
      "wdbc total sample size: 569\n"
     ]
    }
   ],
   "source": [
    "# Load, prepare, and shuffle breast cancer data\n",
    "wdbc_X_and_y = pd.read_csv('data/wdbc.data', header = None).iloc[:, 1:] # drop ID, then first col = y\n",
    "wdbc_X_and_y = shuffle(wdbc_X_and_y)\n",
    "wdbc_y = wdbc_X_and_y.iloc[:, 0]\n",
    "wdbc_X = wdbc_X_and_y.iloc[:, 1:]\n",
    "\n",
    "print(\"wdbc total sample size: {}\".format(wdbc_X.shape[0]))\n",
    "\n",
    "# Transform y from (B, M) to (-1, 1)\n",
    "wdbc_y = wdbc_y.map({'B': -1, 'M': 1})\n",
    "\n",
    "# Split to 80% training and 20% test set\n",
    "wdbc_X_train, wdbc_X_test, wdbc_y_train, wdbc_y_test = \\\n",
    "    model_selection.train_test_split(wdbc_X, wdbc_y, test_size=0.2)"
   ]
  },
  {
   "cell_type": "markdown",
   "metadata": {
    "heading_collapsed": true,
    "hidden": true
   },
   "source": [
    "## income: US Census Income data"
   ]
  },
  {
   "cell_type": "code",
   "execution_count": 53,
   "metadata": {
    "hidden": true
   },
   "outputs": [
    {
     "name": "stdout",
     "output_type": "stream",
     "text": [
      "Income total sample size: 32561\n"
     ]
    },
    {
     "name": "stderr",
     "output_type": "stream",
     "text": [
      "/home/maxi/.anaconda3/lib/python3.6/site-packages/sklearn/model_selection/_split.py:2026: FutureWarning: From version 0.21, test_size will always complement train_size unless both are specified.\n",
      "  FutureWarning)\n"
     ]
    }
   ],
   "source": [
    "# Load, prepare, and shuffle adult income data\n",
    "income_X_and_y = pd.read_csv('data/adult.data', header=None)\n",
    "income_X_and_y.columns = ['age', 'workclass', 'fnlwgt', 'education', 'education-num',\n",
    "                         'marital-status', 'occupation', 'relationship',\n",
    "                         'race', 'sex', 'capital-gain', 'capital-loss', 'hours-per-week',\n",
    "                         'native-country', 'income']\n",
    "income_X_and_y = shuffle(income_X_and_y)\n",
    "print(\"Income total sample size: {}\".format(income_X_and_y.shape[0]))\n",
    "\n",
    "# one-hot encode categorical variables\n",
    "income_categorical_vars = ['workclass', 'education', 'marital-status', 'occupation',\n",
    "                           'relationship', 'race', 'sex', 'native-country']\n",
    "income_X_and_y_onehot = pd.DataFrame()\n",
    "for var in income_categorical_vars:\n",
    "    dummy_coded_var_df = pd.get_dummies(income_X_and_y[var], prefix=var)\n",
    "    income_X_and_y_onehot = pd.concat([income_X_and_y_onehot, dummy_coded_var_df], axis=1)\n",
    "\n",
    "# add remaining columns to one-hot encoded df\n",
    "income_X_and_y = pd.concat([income_X_and_y_onehot,\n",
    "                            income_X_and_y.loc[:, income_X_and_y.columns[\n",
    "                                np.logical_not(np.in1d(income_X_and_y.columns, income_categorical_vars))]]],\n",
    "                           axis=1)\n",
    "\n",
    "income_y = income_X_and_y.loc[:, 'income']\n",
    "income_X = income_X_and_y.drop('income', axis=1)\n",
    "\n",
    "# Transform y from (<=50K, >50K) to (-1, 1)\n",
    "income_y = income_y.map({' <=50K': -1, ' >50K': 1})\n",
    "\n",
    "# Split to 80% training and 20% test set\n",
    "income_X_train, income_X_test, income_y_train, income_y_test = \\\n",
    "    model_selection.train_test_split(income_X, income_y, test_size = 0.2)\n",
    "\n",
    "# Hard-limit size of training set to 5000 for computational reasons\n",
    "income5000_X_train, income5000_X_test, income5000_y_train, income5000_y_test = \\\n",
    "    model_selection.train_test_split(income_X, income_y, train_size=5000)"
   ]
  },
  {
   "cell_type": "markdown",
   "metadata": {
    "heading_collapsed": true,
    "hidden": true
   },
   "source": [
    "## Iris data"
   ]
  },
  {
   "cell_type": "code",
   "execution_count": 54,
   "metadata": {
    "hidden": true
   },
   "outputs": [
    {
     "name": "stdout",
     "output_type": "stream",
     "text": [
      "Iris total sample size: 150\n"
     ]
    }
   ],
   "source": [
    "iris_X = datasets.load_iris()['data']\n",
    "iris_y = datasets.load_iris()['target']\n",
    "iris_X_train, iris_X_test, iris_y_train, iris_y_test = \\\n",
    "    model_selection.train_test_split(iris_X, iris_y, test_size=0.2)\n",
    "print(\"Iris total sample size: {}\".format(iris_X.shape[0]))"
   ]
  },
  {
   "cell_type": "markdown",
   "metadata": {
    "heading_collapsed": true
   },
   "source": [
    "# Basic study"
   ]
  },
  {
   "cell_type": "code",
   "execution_count": 55,
   "metadata": {
    "hidden": true
   },
   "outputs": [],
   "source": [
    "# data_dict       = {'wdbc':   [wdbc_X_train, wdbc_y_train]}\n",
    "\n",
    "# hyperparam_dict = {'knn': {'n_neighbors': np.arange(1, 51)}}\n",
    "\n",
    "# hp_cv_gs = hyperparam_cv_gs(data_dict, hyperparam_dict, CLF_DICT)\n",
    "# hp_cv_gs.search()\n",
    "# hp_cv_gs.get_results()"
   ]
  },
  {
   "cell_type": "markdown",
   "metadata": {
    "hidden": true
   },
   "source": [
    "## knn: k; income5000"
   ]
  },
  {
   "cell_type": "code",
   "execution_count": 56,
   "metadata": {
    "hidden": true
   },
   "outputs": [],
   "source": [
    "# data_dict       = {'income5000': [income5000_X_train, income5000_y_train]}\n",
    "# hyperparam_dict = {'knn' : {'n_neighbors': np.arange(1, 51)}}\n",
    "\n",
    "# hp_cv_gs = hyperparam_cv_gs(data_dict, hyperparam_dict, CLF_DICT)\n",
    "# hp_cv_gs.search()"
   ]
  },
  {
   "cell_type": "code",
   "execution_count": 57,
   "metadata": {
    "hidden": true
   },
   "outputs": [],
   "source": [
    "# hp_cv_gs.get_results()"
   ]
  },
  {
   "cell_type": "markdown",
   "metadata": {
    "heading_collapsed": true
   },
   "source": [
    "# Run hyperparam study"
   ]
  },
  {
   "cell_type": "markdown",
   "metadata": {
    "hidden": true
   },
   "source": [
    "## knn: k (1:50); wdbc/income_full/iris"
   ]
  },
  {
   "cell_type": "code",
   "execution_count": 58,
   "metadata": {
    "collapsed": true,
    "hidden": true
   },
   "outputs": [],
   "source": [
    "# data_dict       = {'wdbc':   [wdbc_X_train, wdbc_y_train],\n",
    "#                    'income': [income_X_train, income_y_train],\n",
    "#                    'iris':   [iris_X_train, iris_y_train]}"
   ]
  },
  {
   "cell_type": "code",
   "execution_count": 59,
   "metadata": {
    "collapsed": true,
    "hidden": true
   },
   "outputs": [],
   "source": [
    "# hyperparam_dict = {'knn': {'n_neighbors': np.arange(1, 51)}}\n",
    "# expl = hyperparam_explorer(data_dict, hyperparam_dict, CLF_DICT, cv=5)\n",
    "# expl.explore()"
   ]
  },
  {
   "cell_type": "code",
   "execution_count": 60,
   "metadata": {
    "collapsed": true,
    "hidden": true
   },
   "outputs": [],
   "source": [
    "# result_dict = expl.get_results()\n",
    "# result_dict"
   ]
  },
  {
   "cell_type": "code",
   "execution_count": 61,
   "metadata": {
    "collapsed": true,
    "hidden": true
   },
   "outputs": [],
   "source": [
    "# expl.save('wdbc_income_iris_knn_k_1_50')"
   ]
  },
  {
   "cell_type": "markdown",
   "metadata": {
    "hidden": true
   },
   "source": [
    "## svm: C (1e-7:1e3) with kernel='linear'; wdbc/income_5000/iris"
   ]
  },
  {
   "cell_type": "code",
   "execution_count": 62,
   "metadata": {
    "collapsed": true,
    "hidden": true
   },
   "outputs": [],
   "source": [
    "# data_dict       = {'wdbc':   [wdbc_X_train, wdbc_y_train],\n",
    "#                    'income': [income5000_X_train, income5000_y_train],\n",
    "#                    'iris':   [iris_X_train, iris_y_train]}"
   ]
  },
  {
   "cell_type": "code",
   "execution_count": 63,
   "metadata": {
    "hidden": true
   },
   "outputs": [],
   "source": [
    "# hyperparam_dict = {'svm': {'C': [1e-7, 1e-6, 1e-5, 1e-4, 1e-3, 1e-2, 1e-1, 1e0, 1e1, 1e2, 1e3]}}\n",
    "# expl = hyperparam_explorer(data_dict, hyperparam_dict, CLF_DICT, cv=5)\n",
    "# expl.explore()"
   ]
  },
  {
   "cell_type": "code",
   "execution_count": 64,
   "metadata": {
    "collapsed": true,
    "hidden": true
   },
   "outputs": [],
   "source": [
    "# expl.save('wdbc_income5000_iris_svm_linear_C_1e-7_1e3')"
   ]
  },
  {
   "cell_type": "markdown",
   "metadata": {
    "heading_collapsed": true
   },
   "source": [
    "# Plot results"
   ]
  },
  {
   "cell_type": "markdown",
   "metadata": {
    "heading_collapsed": true,
    "hidden": true
   },
   "source": [
    "## knn: k (1:50); wdbc/income_full/iris"
   ]
  },
  {
   "cell_type": "code",
   "execution_count": 65,
   "metadata": {
    "collapsed": true,
    "hidden": true
   },
   "outputs": [],
   "source": [
    "knn_expl = hyperparam_explorer.load('./wdbc_income_iris_knn_k_1_50')\n",
    "knn_expl_results = knn_expl.get_results()"
   ]
  },
  {
   "cell_type": "code",
   "execution_count": 66,
   "metadata": {
    "hidden": true
   },
   "outputs": [
    {
     "ename": "NameError",
     "evalue": "name 'expl_plotter' is not defined",
     "output_type": "error",
     "traceback": [
      "\u001b[0;31m---------------------------------------------------------------------------\u001b[0m",
      "\u001b[0;31mNameError\u001b[0m                                 Traceback (most recent call last)",
      "\u001b[0;32m<ipython-input-66-80c6d3cc7426>\u001b[0m in \u001b[0;36m<module>\u001b[0;34m()\u001b[0m\n\u001b[0;32m----> 1\u001b[0;31m \u001b[0mexpl_plotter\u001b[0m\u001b[0;34m(\u001b[0m\u001b[0mknn_expl_results\u001b[0m\u001b[0;34m)\u001b[0m\u001b[0;34m\u001b[0m\u001b[0m\n\u001b[0m",
      "\u001b[0;31mNameError\u001b[0m: name 'expl_plotter' is not defined"
     ]
    }
   ],
   "source": [
    "expl_plotter(knn_expl_results)"
   ]
  },
  {
   "cell_type": "markdown",
   "metadata": {
    "heading_collapsed": true,
    "hidden": true
   },
   "source": [
    "## svm: C (1e-7:1e3) with kernel='linear'; wdbc/income_5000/iris"
   ]
  },
  {
   "cell_type": "code",
   "execution_count": null,
   "metadata": {
    "collapsed": true,
    "hidden": true
   },
   "outputs": [],
   "source": [
    "svm_lin_expl = hyperparam_explorer.load('./wdbc_income5000_iris_svm_linear_C_1e-7_1e3')\n",
    "svm_lin_results = svm_lin_expl.get_results()"
   ]
  },
  {
   "cell_type": "code",
   "execution_count": null,
   "metadata": {
    "hidden": true
   },
   "outputs": [],
   "source": [
    "expl_plotter(svm_lin_results, x_log10=True)"
   ]
  },
  {
   "cell_type": "markdown",
   "metadata": {
    "heading_collapsed": true
   },
   "source": [
    "# Package dev"
   ]
  },
  {
   "cell_type": "code",
   "execution_count": null,
   "metadata": {
    "collapsed": true,
    "hidden": true
   },
   "outputs": [],
   "source": [
    "# fig, ax = plt.subplots()\n"
   ]
  },
  {
   "cell_type": "code",
   "execution_count": null,
   "metadata": {
    "collapsed": true,
    "hidden": true
   },
   "outputs": [],
   "source": [
    "def expl_plotter(explorer_results, x_log10=False):\n",
    "    for data_name, data_results in explorer_results.items():\n",
    "        for clf_name, clf_results in data_results.items():\n",
    "            fig, ax = plt.subplots()\n",
    "            \n",
    "            x = np.log10(clf_results.iloc[:, 0]) if(x_log10) else clf_results.iloc[:, 0]\n",
    "            y = clf_results.iloc[:, 1]\n",
    "            \n",
    "            ax.plot(x, y)\n",
    "            \n",
    "            ax.set_title(\"Data: {}\".format(data_name))\n",
    "            \n",
    "            hyperparam_name = clf_results.columns[0]\n",
    "            x_ax_label_format_str = \"log10({})\" if x_log10 == True else \"{}\"\n",
    "            x_ax_label = x_ax_label_format_str.format(hyperparam_name)\n",
    "            ax.set_xlabel(x_ax_label)\n",
    "            \n",
    "            ax.set_ylabel('Cross-validated training accuracy')\n",
    "            \n",
    "            plt.show()"
   ]
  },
  {
   "cell_type": "code",
   "execution_count": null,
   "metadata": {
    "hidden": true
   },
   "outputs": [],
   "source": [
    "svm_lin_results['income']['svm'].columns"
   ]
  },
  {
   "cell_type": "markdown",
   "metadata": {},
   "source": [
    "# Additional stuff"
   ]
  },
  {
   "cell_type": "markdown",
   "metadata": {},
   "source": [
    "Proof that we need to take care of hp interdependencies:"
   ]
  },
  {
   "cell_type": "code",
   "execution_count": null,
   "metadata": {},
   "outputs": [],
   "source": [
    "%%time\n",
    "hp_grid = {'kernel': ['linear'], 'degree': [2, 3]}\n",
    "gs = GridSearchCV(svm.SVC(), hp_grid, cv = 5)\n",
    "gs.fit(wdbc_X_train, wdbc_y_train)"
   ]
  },
  {
   "cell_type": "code",
   "execution_count": null,
   "metadata": {},
   "outputs": [],
   "source": [
    "%%time\n",
    "hp_grid = {'kernel': ['linear']}\n",
    "gs = GridSearchCV(svm.SVC(), hp_grid, cv = 5)\n",
    "gs.fit(wdbc_X_train, wdbc_y_train)"
   ]
  },
  {
   "cell_type": "code",
   "execution_count": 139,
   "metadata": {},
   "outputs": [
    {
     "name": "stderr",
     "output_type": "stream",
     "text": [
      "/home/maxi/.anaconda3/lib/python3.6/site-packages/ipykernel_launcher.py:66: FutureWarning: convert_objects is deprecated.  Use the data-type specific converters pd.to_datetime, pd.to_timedelta and pd.to_numeric.\n"
     ]
    },
    {
     "data": {
      "text/plain": [
       "{'svm':        C  degree  kernel\n",
       " 0     10       2  linear\n",
       " 1     10       2    poly\n",
       " 2     10       2     rbf\n",
       " 4     10       3    poly\n",
       " 7    100       2    poly\n",
       " 8    100       2     rbf\n",
       " 10   100       3    poly\n",
       " 13  1000       2    poly\n",
       " 14  1000       2     rbf\n",
       " 16  1000       3    poly}"
      ]
     },
     "execution_count": 139,
     "metadata": {},
     "output_type": "execute_result"
    }
   ],
   "source": [
    "# clfs_hp_dict = {'svm': {'kernel': ['linear', 'poly', 'rbf'],\n",
    "#                         'degree': [2, 3],\n",
    "#                         'C':      [1e-7, 1e-6, 1e-5],\n",
    "#                         'gamma':  [0.001, 0.005, 0.01]}}\n",
    "# invalid_hp_combinations_dict      = {'svm': [{'key_name': 'kernel',\n",
    "#                                               'key_value': 'linear',\n",
    "#                                               'target_names': ['degree', 'gamma']},\n",
    "#                                              {'key_name': 'kernel',\n",
    "#                                               'key_value': 'rbf',\n",
    "#                                               'target_names': ['degree']}]}\n",
    "clfs_hp_dict = {'svm': {'kernel': ['linear', 'poly', 'rbf'],\n",
    "                        'degree': [2, 3],\n",
    "                        'C':      [10, 100, 1000]}}\n",
    "invalid_hp_combinations_dict      = {'svm': [{'key_name': 'kernel',\n",
    "                                              'key_value': 'linear',\n",
    "                                              'target_names': ['degree', 'C']},\n",
    "                                             {'key_name': 'kernel',\n",
    "                                              'key_value': 'rbf',\n",
    "                                              'target_names': ['degree']}]}\n",
    "remove_invalid_hp_combinations(clfs_hp_dict, invalid_hp_combinations_dict)\n"
   ]
  },
  {
   "cell_type": "code",
   "execution_count": 138,
   "metadata": {
    "collapsed": true
   },
   "outputs": [],
   "source": [
    "def remove_invalid_hp_combinations(clfs_hp_dict, invalid_hp_combinations_dict):\n",
    "    \"\"\"\n",
    "    Returns all combinations of hyperparameters as df for dict of classifiers with invalid/redundant combinations removed.\n",
    "    \n",
    "    Parameters\n",
    "    ----------\n",
    "    clfs_hp_dict: dict with clf codes as keys and hyperparam grid dicts as entries\n",
    "    \n",
    "    invalid_hp_combinations_dict: dict with clf codes as keys and lists of rule dicts as entries\n",
    "        Example of list of rule dicts: [{'key_name':     'kernel',\n",
    "                                         'key_value':    'linear',\n",
    "                                         'target_names': ['degree', 'C']},\n",
    "                                        {'key_name':     'kernel',\n",
    "                                         'key_value':    'rbf',\n",
    "                                         'target_names': ['degree']}]\n",
    "        This example will retain only one combination of linear kernels and degrees/C values,\n",
    "        and only one combination of rbf kernels and degrees.\n",
    "    \n",
    "    Returns\n",
    "    -------\n",
    "    clfs_filtered_hp_combinations: dict with clf codes as keys and filtered hyperparam combination dfs as values\n",
    "        \n",
    "    \"\"\"\n",
    "    clfs_filtered_hp_combinations = dict()\n",
    "    for clf_name, clf_hp_dict in clfs_hp_dict.items():\n",
    "        hps = sorted(clf_hp_dict)\n",
    "        hp_combinations = np.array(list(it.product(*(clf_hp_dict[Name] for Name in hps))))\n",
    "        hp_combinations = pd.DataFrame(hp_combinations, index=None)\n",
    "        hp_combinations.columns = hps\n",
    "        \n",
    "        # Add dummy column to combinations. This is needed later for filtering if there are now hyperparams that don't occur in the hp combinations to be filtered\n",
    "        hp_combinations['dummy'] = 1\n",
    "        \n",
    "        \n",
    "        all_redundant_rows_idx = list()\n",
    "        if clf_name in invalid_hp_combinations_dict.keys():\n",
    "            for rule in invalid_hp_combinations_dict[clf_name]:\n",
    "                hp_key_name = rule['key_name']\n",
    "                hp_key_value = rule['key_value']\n",
    "                hp_target_names = rule['target_names']\n",
    "                \n",
    "                # Get only combinations where hp_key_name == hp_key_value\n",
    "                only_hp_key_value_combinations = hp_combinations.loc[hp_combinations[hp_key_name] == hp_key_value]\n",
    "                \n",
    "                for hp_target_name in hp_target_names:\n",
    "                    # Show only OTHER hp columns\n",
    "                    other_hps = np.setdiff1d(hp_combinations.columns, [hp_key_name, hp_target_name])\n",
    "                    only_hp_key_value_combinations_other_hps = only_hp_key_value_combinations.loc[:, other_hps]\n",
    "                    \n",
    "                    # Get duplicate rows - these are the combinations where values of the invalid parameter vary, we don't want to compute these\n",
    "                    redundant_rows = only_hp_key_value_combinations_other_hps.duplicated()\n",
    "                    redundant_rows_idx = redundant_rows.index[redundant_rows].tolist()\n",
    "                    \n",
    "                    # Save the row indices\n",
    "                    all_redundant_rows_idx.extend(redundant_rows_idx)\n",
    "\n",
    "        all_redundant_rows_idx = list(set(all_redundant_rows_idx))\n",
    "\n",
    "        # Drop'em\n",
    "        filtered_hp_combinations = hp_combinations.drop(hp_combinations.index[all_redundant_rows_idx])\n",
    "        \n",
    "        # Drop dummy column\n",
    "        filtered_hp_combinations = filtered_hp_combinations.drop('dummy', axis=1)\n",
    "        \n",
    "        # Automatically infer and convert to dtypes (which get lost somewhere above)\n",
    "        filtered_hp_combinations = filtered_hp_combinations.convert_objects(convert_numeric=True)\n",
    "        \n",
    "        clfs_filtered_hp_combinations[clf_name] = filtered_hp_combinations\n",
    "    \n",
    "    return(clfs_filtered_hp_combinations)"
   ]
  },
  {
   "cell_type": "code",
   "execution_count": 67,
   "metadata": {},
   "outputs": [
    {
     "name": "stdout",
     "output_type": "stream",
     "text": [
      "CPU times: user 0 ns, sys: 39 µs, total: 39 µs\n",
      "Wall time: 42 µs\n"
     ]
    }
   ],
   "source": [
    "%%time\n",
    "class MyGridSearchCV:\n",
    "    \n",
    "    clfs_hp_dict = None\n",
    "    clfs_invalid_hp_combinations_dict = None\n",
    "    cv = None\n",
    "    verbose = None\n",
    "    \n",
    "    clfs_hp_filtered_combinations_dict = None\n",
    "    \n",
    "    clfs_hp_combinations_results_dict = None\n",
    "    \n",
    "    def __init__(self, clfs_hp_dict, clfs_invalid_hp_combinations_dict, cv=None, n_jobs=1, verbose=False):\n",
    "        self.clfs_hp_dict = clfs_hp_dict\n",
    "        self.clfs_invalid_hp_combinations_dict = clfs_invalid_hp_combinations_dict\n",
    "        self.cv = cv\n",
    "        self.verbose = verbose\n",
    "        \n",
    "        self.clfs_hp_filtered_combinations_dict = \\\n",
    "            remove_invalid_hp_combinations(clfs_hp_dict, clfs_invalid_hp_combinations_dict)\n",
    "    \n",
    "    def fit(self, X, y):\n",
    "        clfs_hp_combinations_results_dict = dict()\n",
    "        for clf_name, clf_hp_combinations_df in self.clfs_hp_filtered_combinations_dict.items():\n",
    "\n",
    "            clf_hp_combinations_scores_mean = []\n",
    "            clf_hp_combinations_scores_sd = []\n",
    "            for row_idx, row in clf_hp_combinations_df.iterrows():\n",
    "                clf_hp_combination = row.to_dict()\n",
    "\n",
    "                clf = init_clf(clf_name, CLF_DICT)\n",
    "\n",
    "                # Set clf hyperparams\n",
    "                for hp_name, hp_val in clf_hp_combination.items():\n",
    "                    setattr(clf, hp_name, hp_val)\n",
    "\n",
    "                scores = cross_val_score(clf, X, y, cv=cv, n_jobs=4, verbose=self.verbose)\n",
    "                scores_mean = np.mean(scores)\n",
    "                scores_sd = np.std(scores)\n",
    "                clf_hp_combinations_scores_mean.append(scores_mean)\n",
    "                clf_hp_combinations_scores_sd.append(scores_sd)\n",
    "\n",
    "            clf_hp_combinations_df['scores_mean'] = clf_hp_combinations_scores_mean\n",
    "            clf_hp_combinations_df['scores_sd'] = clf_hp_combinations_scores_sd\n",
    "\n",
    "            clfs_hp_combinations_results_dict[clf_name] = clf_hp_combinations_df\n",
    "        self.clfs_hp_combinations_results_dict = clfs_hp_combinations_results_dict\n",
    "        self.__find_best_params()\n",
    "    \n",
    "    def __find_best_params(self):\n",
    "        best_params = dict()\n",
    "        for clf_name, clf_hp_combinations_results_df in self.clfs_hp_combinations_results_dict.items():\n",
    "            clf_best_params = clf_hp_combinations_results_df.iloc[clf_hp_combinations_results_df['scores_mean'].idxmax(), :-2].to_dict()\n",
    "            best_params[clf_name] = clf_best_params\n",
    "        self.best_params_ = best_params"
   ]
  },
  {
   "cell_type": "code",
   "execution_count": 156,
   "metadata": {},
   "outputs": [],
   "source": [
    "clfs_hp_dict = {'svm': {'kernel': ['linear', 'poly', 'rbf'],\n",
    "                        'degree': [2, 3],\n",
    "                        'C':      [1e-7, 1e-6, 1e-5, 1e-4, 1e-3, 1e-2, 1e-1, 1e0],\n",
    "                        'gamma':  [0.001, 0.005, 0.01]}}\n",
    "clfs_invalid_hp_combinations_dict = {'svm': [{'key_name': 'kernel',\n",
    "                                              'key_value': 'linear',\n",
    "                                              'target_names': ['degree', 'gamma']},\n",
    "                                             {'key_name': 'kernel',\n",
    "                                              'key_value': 'rbf',\n",
    "                                              'target_names': ['degree']}]}\n",
    "\n",
    "X = wdbc_X_train\n",
    "y = wdbc_y_train\n",
    "\n",
    "cv = 2\n",
    "n_jobs = 4\n",
    "verbose = 10"
   ]
  },
  {
   "cell_type": "code",
   "execution_count": 160,
   "metadata": {},
   "outputs": [
    {
     "name": "stderr",
     "output_type": "stream",
     "text": [
      "/home/maxi/.anaconda3/lib/python3.6/site-packages/ipykernel_launcher.py:66: FutureWarning: convert_objects is deprecated.  Use the data-type specific converters pd.to_datetime, pd.to_timedelta and pd.to_numeric.\n"
     ]
    },
    {
     "ename": "IndexError",
     "evalue": "single positional indexer is out-of-bounds",
     "output_type": "error",
     "traceback": [
      "\u001b[0;31m---------------------------------------------------------------------------\u001b[0m",
      "\u001b[0;31mIndexError\u001b[0m                                Traceback (most recent call last)",
      "\u001b[0;32m<timed exec>\u001b[0m in \u001b[0;36m<module>\u001b[0;34m()\u001b[0m\n",
      "\u001b[0;32m<timed exec>\u001b[0m in \u001b[0;36mfit\u001b[0;34m(self, X, y)\u001b[0m\n",
      "\u001b[0;32m<timed exec>\u001b[0m in \u001b[0;36m__find_best_params\u001b[0;34m(self)\u001b[0m\n",
      "\u001b[0;32m~/.anaconda3/lib/python3.6/site-packages/pandas/core/indexing.py\u001b[0m in \u001b[0;36m__getitem__\u001b[0;34m(self, key)\u001b[0m\n\u001b[1;32m   1323\u001b[0m             \u001b[0;32mexcept\u001b[0m \u001b[0;34m(\u001b[0m\u001b[0mKeyError\u001b[0m\u001b[0;34m,\u001b[0m \u001b[0mIndexError\u001b[0m\u001b[0;34m)\u001b[0m\u001b[0;34m:\u001b[0m\u001b[0;34m\u001b[0m\u001b[0m\n\u001b[1;32m   1324\u001b[0m                 \u001b[0;32mpass\u001b[0m\u001b[0;34m\u001b[0m\u001b[0m\n\u001b[0;32m-> 1325\u001b[0;31m             \u001b[0;32mreturn\u001b[0m \u001b[0mself\u001b[0m\u001b[0;34m.\u001b[0m\u001b[0m_getitem_tuple\u001b[0m\u001b[0;34m(\u001b[0m\u001b[0mkey\u001b[0m\u001b[0;34m)\u001b[0m\u001b[0;34m\u001b[0m\u001b[0m\n\u001b[0m\u001b[1;32m   1326\u001b[0m         \u001b[0;32melse\u001b[0m\u001b[0;34m:\u001b[0m\u001b[0;34m\u001b[0m\u001b[0m\n\u001b[1;32m   1327\u001b[0m             \u001b[0mkey\u001b[0m \u001b[0;34m=\u001b[0m \u001b[0mcom\u001b[0m\u001b[0;34m.\u001b[0m\u001b[0m_apply_if_callable\u001b[0m\u001b[0;34m(\u001b[0m\u001b[0mkey\u001b[0m\u001b[0;34m,\u001b[0m \u001b[0mself\u001b[0m\u001b[0;34m.\u001b[0m\u001b[0mobj\u001b[0m\u001b[0;34m)\u001b[0m\u001b[0;34m\u001b[0m\u001b[0m\n",
      "\u001b[0;32m~/.anaconda3/lib/python3.6/site-packages/pandas/core/indexing.py\u001b[0m in \u001b[0;36m_getitem_tuple\u001b[0;34m(self, tup)\u001b[0m\n\u001b[1;32m   1660\u001b[0m     \u001b[0;32mdef\u001b[0m \u001b[0m_getitem_tuple\u001b[0m\u001b[0;34m(\u001b[0m\u001b[0mself\u001b[0m\u001b[0;34m,\u001b[0m \u001b[0mtup\u001b[0m\u001b[0;34m)\u001b[0m\u001b[0;34m:\u001b[0m\u001b[0;34m\u001b[0m\u001b[0m\n\u001b[1;32m   1661\u001b[0m \u001b[0;34m\u001b[0m\u001b[0m\n\u001b[0;32m-> 1662\u001b[0;31m         \u001b[0mself\u001b[0m\u001b[0;34m.\u001b[0m\u001b[0m_has_valid_tuple\u001b[0m\u001b[0;34m(\u001b[0m\u001b[0mtup\u001b[0m\u001b[0;34m)\u001b[0m\u001b[0;34m\u001b[0m\u001b[0m\n\u001b[0m\u001b[1;32m   1663\u001b[0m         \u001b[0;32mtry\u001b[0m\u001b[0;34m:\u001b[0m\u001b[0;34m\u001b[0m\u001b[0m\n\u001b[1;32m   1664\u001b[0m             \u001b[0;32mreturn\u001b[0m \u001b[0mself\u001b[0m\u001b[0;34m.\u001b[0m\u001b[0m_getitem_lowerdim\u001b[0m\u001b[0;34m(\u001b[0m\u001b[0mtup\u001b[0m\u001b[0;34m)\u001b[0m\u001b[0;34m\u001b[0m\u001b[0m\n",
      "\u001b[0;32m~/.anaconda3/lib/python3.6/site-packages/pandas/core/indexing.py\u001b[0m in \u001b[0;36m_has_valid_tuple\u001b[0;34m(self, key)\u001b[0m\n\u001b[1;32m    187\u001b[0m             \u001b[0;32mif\u001b[0m \u001b[0mi\u001b[0m \u001b[0;34m>=\u001b[0m \u001b[0mself\u001b[0m\u001b[0;34m.\u001b[0m\u001b[0mobj\u001b[0m\u001b[0;34m.\u001b[0m\u001b[0mndim\u001b[0m\u001b[0;34m:\u001b[0m\u001b[0;34m\u001b[0m\u001b[0m\n\u001b[1;32m    188\u001b[0m                 \u001b[0;32mraise\u001b[0m \u001b[0mIndexingError\u001b[0m\u001b[0;34m(\u001b[0m\u001b[0;34m'Too many indexers'\u001b[0m\u001b[0;34m)\u001b[0m\u001b[0;34m\u001b[0m\u001b[0m\n\u001b[0;32m--> 189\u001b[0;31m             \u001b[0;32mif\u001b[0m \u001b[0;32mnot\u001b[0m \u001b[0mself\u001b[0m\u001b[0;34m.\u001b[0m\u001b[0m_has_valid_type\u001b[0m\u001b[0;34m(\u001b[0m\u001b[0mk\u001b[0m\u001b[0;34m,\u001b[0m \u001b[0mi\u001b[0m\u001b[0;34m)\u001b[0m\u001b[0;34m:\u001b[0m\u001b[0;34m\u001b[0m\u001b[0m\n\u001b[0m\u001b[1;32m    190\u001b[0m                 raise ValueError(\"Location based indexing can only have [%s] \"\n\u001b[1;32m    191\u001b[0m                                  \"types\" % self._valid_types)\n",
      "\u001b[0;32m~/.anaconda3/lib/python3.6/site-packages/pandas/core/indexing.py\u001b[0m in \u001b[0;36m_has_valid_type\u001b[0;34m(self, key, axis)\u001b[0m\n\u001b[1;32m   1595\u001b[0m             \u001b[0;32mreturn\u001b[0m \u001b[0;32mTrue\u001b[0m\u001b[0;34m\u001b[0m\u001b[0m\n\u001b[1;32m   1596\u001b[0m         \u001b[0;32melif\u001b[0m \u001b[0mis_integer\u001b[0m\u001b[0;34m(\u001b[0m\u001b[0mkey\u001b[0m\u001b[0;34m)\u001b[0m\u001b[0;34m:\u001b[0m\u001b[0;34m\u001b[0m\u001b[0m\n\u001b[0;32m-> 1597\u001b[0;31m             \u001b[0;32mreturn\u001b[0m \u001b[0mself\u001b[0m\u001b[0;34m.\u001b[0m\u001b[0m_is_valid_integer\u001b[0m\u001b[0;34m(\u001b[0m\u001b[0mkey\u001b[0m\u001b[0;34m,\u001b[0m \u001b[0maxis\u001b[0m\u001b[0;34m)\u001b[0m\u001b[0;34m\u001b[0m\u001b[0m\n\u001b[0m\u001b[1;32m   1598\u001b[0m         \u001b[0;32melif\u001b[0m \u001b[0mis_list_like_indexer\u001b[0m\u001b[0;34m(\u001b[0m\u001b[0mkey\u001b[0m\u001b[0;34m)\u001b[0m\u001b[0;34m:\u001b[0m\u001b[0;34m\u001b[0m\u001b[0m\n\u001b[1;32m   1599\u001b[0m             \u001b[0;32mreturn\u001b[0m \u001b[0mself\u001b[0m\u001b[0;34m.\u001b[0m\u001b[0m_is_valid_list_like\u001b[0m\u001b[0;34m(\u001b[0m\u001b[0mkey\u001b[0m\u001b[0;34m,\u001b[0m \u001b[0maxis\u001b[0m\u001b[0;34m)\u001b[0m\u001b[0;34m\u001b[0m\u001b[0m\n",
      "\u001b[0;32m~/.anaconda3/lib/python3.6/site-packages/pandas/core/indexing.py\u001b[0m in \u001b[0;36m_is_valid_integer\u001b[0;34m(self, key, axis)\u001b[0m\n\u001b[1;32m   1636\u001b[0m         \u001b[0ml\u001b[0m \u001b[0;34m=\u001b[0m \u001b[0mlen\u001b[0m\u001b[0;34m(\u001b[0m\u001b[0max\u001b[0m\u001b[0;34m)\u001b[0m\u001b[0;34m\u001b[0m\u001b[0m\n\u001b[1;32m   1637\u001b[0m         \u001b[0;32mif\u001b[0m \u001b[0mkey\u001b[0m \u001b[0;34m>=\u001b[0m \u001b[0ml\u001b[0m \u001b[0;32mor\u001b[0m \u001b[0mkey\u001b[0m \u001b[0;34m<\u001b[0m \u001b[0;34m-\u001b[0m\u001b[0ml\u001b[0m\u001b[0;34m:\u001b[0m\u001b[0;34m\u001b[0m\u001b[0m\n\u001b[0;32m-> 1638\u001b[0;31m             \u001b[0;32mraise\u001b[0m \u001b[0mIndexError\u001b[0m\u001b[0;34m(\u001b[0m\u001b[0;34m\"single positional indexer is out-of-bounds\"\u001b[0m\u001b[0;34m)\u001b[0m\u001b[0;34m\u001b[0m\u001b[0m\n\u001b[0m\u001b[1;32m   1639\u001b[0m         \u001b[0;32mreturn\u001b[0m \u001b[0;32mTrue\u001b[0m\u001b[0;34m\u001b[0m\u001b[0m\n\u001b[1;32m   1640\u001b[0m \u001b[0;34m\u001b[0m\u001b[0m\n",
      "\u001b[0;31mIndexError\u001b[0m: single positional indexer is out-of-bounds"
     ]
    }
   ],
   "source": [
    "%%time\n",
    "gs = MyGridSearchCV(clfs_hp_dict, clfs_invalid_hp_combinations_dict, cv=cv, n_jobs=n_jobs)\n",
    "gs.fit(X, y)"
   ]
  },
  {
   "cell_type": "code",
   "execution_count": 146,
   "metadata": {},
   "outputs": [
    {
     "data": {
      "text/plain": [
       "{'svm': {'C': 9.9999999999999995e-08,\n",
       "  'degree': 2,\n",
       "  'gamma': 0.001,\n",
       "  'kernel': 'linear'}}"
      ]
     },
     "execution_count": 146,
     "metadata": {},
     "output_type": "execute_result"
    }
   ],
   "source": [
    "gs.best_params_"
   ]
  },
  {
   "cell_type": "code",
   "execution_count": 158,
   "metadata": {},
   "outputs": [
    {
     "name": "stdout",
     "output_type": "stream",
     "text": [
      "Fitting 2 folds for each of 144 candidates, totalling 288 fits\n",
      "[CV] C=1e-07, degree=2, gamma=0.001, kernel=linear ...................\n",
      "[CV] C=1e-07, degree=2, gamma=0.001, kernel=linear ...................\n",
      "[CV] C=1e-07, degree=2, gamma=0.001, kernel=poly .....................\n",
      "[CV]  C=1e-07, degree=2, gamma=0.001, kernel=linear, score=0.8464912280701754, total=   0.0s\n",
      "[CV] C=1e-07, degree=2, gamma=0.001, kernel=rbf ......................\n",
      "[CV] C=1e-07, degree=2, gamma=0.001, kernel=poly .....................\n",
      "[CV]  C=1e-07, degree=2, gamma=0.001, kernel=rbf, score=0.631578947368421, total=   0.0s\n",
      "[CV] C=1e-07, degree=2, gamma=0.001, kernel=rbf ......................\n",
      "[CV]  C=1e-07, degree=2, gamma=0.001, kernel=poly, score=0.9162995594713657, total=   0.0s\n",
      "[CV]  C=1e-07, degree=2, gamma=0.001, kernel=linear, score=0.8942731277533039, total=   0.0s\n",
      "[CV] C=1e-07, degree=2, gamma=0.005, kernel=linear ...................\n",
      "[CV]  C=1e-07, degree=2, gamma=0.001, kernel=rbf, score=0.6343612334801763, total=   0.0s\n",
      "[CV] C=1e-07, degree=2, gamma=0.005, kernel=linear ...................\n",
      "[CV] C=1e-07, degree=2, gamma=0.005, kernel=poly .....................\n",
      "[CV]  C=1e-07, degree=2, gamma=0.001, kernel=poly, score=0.8640350877192983, total=   0.0s\n",
      "[CV]  C=1e-07, degree=2, gamma=0.005, kernel=poly, score=0.9166666666666666, total=   0.0s\n",
      "[CV]  C=1e-07, degree=2, gamma=0.005, kernel=linear, score=0.8942731277533039, total=   0.0s\n",
      "[CV] C=1e-07, degree=3, gamma=0.001, kernel=rbf ......................\n",
      "[CV] C=1e-07, degree=2, gamma=0.005, kernel=poly .....................\n",
      "[CV]  C=1e-07, degree=2, gamma=0.005, kernel=linear, score=0.8464912280701754, total=   0.0s\n",
      "[CV]  C=1e-07, degree=3, gamma=0.001, kernel=rbf, score=0.631578947368421, total=   0.0s\n",
      "[CV] C=1e-06, degree=2, gamma=0.001, kernel=linear ...................\n",
      "[CV]  C=1e-07, degree=2, gamma=0.005, kernel=poly, score=0.920704845814978, total=   0.0s\n",
      "[CV] C=1e-06, degree=2, gamma=0.01, kernel=poly ......................\n",
      "[CV] C=1e-07, degree=3, gamma=0.001, kernel=rbf ......................\n",
      "[CV] C=1e-07, degree=2, gamma=0.005, kernel=rbf ......................\n",
      "[CV]  C=1e-06, degree=2, gamma=0.01, kernel=poly, score=0.9254385964912281, total=   0.0s\n",
      "[CV] C=1e-06, degree=2, gamma=0.01, kernel=poly ......................\n",
      "[CV]  C=1e-06, degree=2, gamma=0.001, kernel=linear, score=0.8859649122807017, total=   0.0s\n",
      "[CV]  C=1e-07, degree=2, gamma=0.005, kernel=rbf, score=0.631578947368421, total=   0.0s\n",
      "[CV]  C=1e-07, degree=3, gamma=0.001, kernel=rbf, score=0.6343612334801763, total=   0.0s\n",
      "[CV] C=1e-07, degree=3, gamma=0.005, kernel=linear ...................\n",
      "[CV] C=1e-06, degree=2, gamma=0.001, kernel=linear ...................\n",
      "[CV]  C=1e-06, degree=2, gamma=0.01, kernel=poly, score=0.9251101321585903, total=   0.0s\n",
      "[CV]  C=1e-06, degree=2, gamma=0.001, kernel=linear, score=0.9251101321585903, total=   0.0s\n",
      "[CV] C=1e-07, degree=2, gamma=0.005, kernel=rbf ......................\n",
      "[CV] C=1e-06, degree=2, gamma=0.01, kernel=rbf .......................\n",
      "[CV] C=1e-06, degree=2, gamma=0.001, kernel=poly .....................\n",
      "[CV]  C=1e-06, degree=2, gamma=0.01, kernel=rbf, score=0.631578947368421, total=   0.0s\n",
      "[CV] C=1e-06, degree=2, gamma=0.01, kernel=rbf .......................\n",
      "[CV]  C=1e-06, degree=2, gamma=0.001, kernel=poly, score=0.9035087719298246, total=   0.0s\n",
      "[CV]  C=1e-07, degree=3, gamma=0.005, kernel=linear, score=0.8464912280701754, total=   0.0s\n",
      "[CV] C=1e-07, degree=3, gamma=0.005, kernel=linear ...................\n",
      "[CV] C=1e-06, degree=2, gamma=0.001, kernel=poly .....................\n",
      "[CV]  C=1e-07, degree=2, gamma=0.005, kernel=rbf, score=0.6343612334801763, total=   0.0s\n",
      "[CV]  C=1e-07, degree=3, gamma=0.005, kernel=linear, score=0.8942731277533039, total=   0.0s\n",
      "[CV] C=1e-07, degree=2, gamma=0.01, kernel=linear ....................\n",
      "[CV]  C=1e-06, degree=2, gamma=0.01, kernel=rbf, score=0.6343612334801763, total=   0.0s\n",
      "[CV] C=1e-07, degree=3, gamma=0.005, kernel=poly .....................\n",
      "[CV] C=1e-06, degree=3, gamma=0.001, kernel=linear ...................\n",
      "[CV]  C=1e-06, degree=2, gamma=0.001, kernel=poly, score=0.9251101321585903, total=   0.0s\n",
      "[CV] C=1e-06, degree=2, gamma=0.001, kernel=rbf ......................\n",
      "[CV]  C=1e-06, degree=3, gamma=0.001, kernel=linear, score=0.8859649122807017, total=   0.0s\n",
      "[CV] C=1e-06, degree=3, gamma=0.001, kernel=linear ...................\n",
      "[CV]  C=1e-06, degree=3, gamma=0.001, kernel=linear, score=0.9251101321585903, total=   0.0s\n",
      "[CV]  C=1e-07, degree=2, gamma=0.01, kernel=linear, score=0.8464912280701754, total=   0.0s\n",
      "[CV] C=1e-07, degree=2, gamma=0.01, kernel=linear ....................\n"
     ]
    },
    {
     "name": "stderr",
     "output_type": "stream",
     "text": [
      "[Parallel(n_jobs=4)]: Batch computation too fast (0.0273s.) Setting batch_size=14.\n",
      "[Parallel(n_jobs=4)]: Done   5 tasks      | elapsed:    0.1s\n"
     ]
    },
    {
     "name": "stdout",
     "output_type": "stream",
     "text": [
      "[CV] C=1e-06, degree=3, gamma=0.001, kernel=poly .....................\n",
      "[CV]  C=1e-07, degree=2, gamma=0.01, kernel=linear, score=0.8942731277533039, total=   0.0s\n",
      "[CV] C=1e-07, degree=2, gamma=0.01, kernel=poly ......................\n",
      "[CV]  C=1e-06, degree=2, gamma=0.001, kernel=rbf, score=0.631578947368421, total=   0.0s\n",
      "[CV] C=1e-06, degree=2, gamma=0.001, kernel=rbf ......................\n",
      "[CV]  C=1e-07, degree=2, gamma=0.01, kernel=poly, score=0.9166666666666666, total=   0.0s\n",
      "[CV] C=1e-07, degree=2, gamma=0.01, kernel=poly ......................\n",
      "[CV]  C=1e-07, degree=2, gamma=0.01, kernel=poly, score=0.920704845814978, total=   0.0s\n",
      "[CV]  C=1e-06, degree=3, gamma=0.001, kernel=poly, score=0.9342105263157895, total=   0.0s\n",
      "[CV] C=1e-07, degree=2, gamma=0.01, kernel=rbf .......................\n",
      "[CV]  C=1e-06, degree=2, gamma=0.001, kernel=rbf, score=0.6343612334801763, total=   0.0s\n",
      "[CV] C=1e-06, degree=3, gamma=0.001, kernel=poly .....................\n",
      "[CV] C=1e-06, degree=2, gamma=0.005, kernel=linear ...................\n",
      "[CV]  C=1e-07, degree=2, gamma=0.01, kernel=rbf, score=0.631578947368421, total=   0.0s\n",
      "[CV] C=1e-07, degree=2, gamma=0.01, kernel=rbf .......................\n",
      "[CV]  C=1e-06, degree=2, gamma=0.005, kernel=linear, score=0.8859649122807017, total=   0.0s\n",
      "[CV] C=1e-06, degree=2, gamma=0.005, kernel=linear ...................\n",
      "[CV]  C=1e-07, degree=2, gamma=0.01, kernel=rbf, score=0.6343612334801763, total=   0.0s\n",
      "[CV]  C=1e-06, degree=2, gamma=0.005, kernel=linear, score=0.9251101321585903, total=   0.0s\n",
      "[CV] C=1e-06, degree=2, gamma=0.005, kernel=poly .....................\n",
      "[CV] C=1e-07, degree=3, gamma=0.001, kernel=linear ...................\n",
      "[CV]  C=1e-06, degree=3, gamma=0.001, kernel=poly, score=0.947136563876652, total=   0.0s\n",
      "[CV]  C=1e-06, degree=2, gamma=0.005, kernel=poly, score=0.9210526315789473, total=   0.0s\n",
      "[CV] C=1e-06, degree=3, gamma=0.001, kernel=rbf ......................\n",
      "[CV] C=1e-06, degree=2, gamma=0.005, kernel=poly .....................\n",
      "[CV]  C=1e-06, degree=2, gamma=0.005, kernel=poly, score=0.9162995594713657, total=   0.0s\n",
      "[CV]  C=1e-07, degree=3, gamma=0.001, kernel=linear, score=0.8464912280701754, total=   0.0s\n",
      "[CV] C=1e-07, degree=3, gamma=0.001, kernel=linear ...................\n",
      "[CV] C=1e-06, degree=2, gamma=0.005, kernel=rbf ......................\n",
      "[CV]  C=1e-06, degree=3, gamma=0.001, kernel=rbf, score=0.631578947368421, total=   0.0s\n",
      "[CV] C=1e-06, degree=3, gamma=0.001, kernel=rbf ......................\n",
      "[CV]  C=1e-07, degree=3, gamma=0.001, kernel=linear, score=0.8942731277533039, total=   0.0s\n",
      "[CV]  C=1e-06, degree=2, gamma=0.005, kernel=rbf, score=0.631578947368421, total=   0.0s\n",
      "[CV] C=1e-07, degree=3, gamma=0.001, kernel=poly .....................\n",
      "[CV]  C=1e-07, degree=3, gamma=0.001, kernel=poly, score=0.9298245614035088, total=   0.0s\n",
      "[CV] C=1e-06, degree=2, gamma=0.005, kernel=rbf ......................\n",
      "[CV]  C=1e-06, degree=3, gamma=0.001, kernel=rbf, score=0.6343612334801763, total=   0.0s\n",
      "[CV] C=1e-07, degree=3, gamma=0.001, kernel=poly .....................\n",
      "[CV] C=1e-06, degree=3, gamma=0.005, kernel=linear ...................\n",
      "[CV]  C=1e-07, degree=3, gamma=0.001, kernel=poly, score=0.9295154185022027, total=   0.0s\n",
      "[CV]  C=1e-06, degree=2, gamma=0.005, kernel=rbf, score=0.6343612334801763, total=   0.0s\n",
      "[CV]  C=1e-06, degree=3, gamma=0.005, kernel=linear, score=0.8859649122807017, total=   0.0s\n",
      "[CV] C=1e-06, degree=2, gamma=0.01, kernel=linear ....................\n",
      "[CV] C=1e-06, degree=3, gamma=0.005, kernel=rbf ......................\n",
      "[CV] C=1e-06, degree=3, gamma=0.005, kernel=linear ...................\n",
      "[CV]  C=1e-06, degree=3, gamma=0.005, kernel=linear, score=0.9251101321585903, total=   0.0s\n",
      "[CV]  C=1e-06, degree=2, gamma=0.01, kernel=linear, score=0.8859649122807017, total=   0.0s\n",
      "[CV]  C=1e-06, degree=3, gamma=0.005, kernel=rbf, score=0.631578947368421, total=   0.0s\n",
      "[CV] C=1e-06, degree=3, gamma=0.005, kernel=rbf ......................\n",
      "[CV] C=1e-06, degree=3, gamma=0.005, kernel=poly .....................\n",
      "[CV] C=1e-06, degree=2, gamma=0.01, kernel=linear ....................\n",
      "[CV]  C=1e-06, degree=2, gamma=0.01, kernel=linear, score=0.9251101321585903, total=   0.0s\n",
      "[CV]  C=1e-07, degree=3, gamma=0.005, kernel=poly, score=0.9517543859649122, total=   0.3s\n",
      "[CV]  C=1e-06, degree=3, gamma=0.005, kernel=rbf, score=0.6343612334801763, total=   0.0s\n",
      "[CV] C=1e-06, degree=3, gamma=0.01, kernel=linear ....................\n",
      "[CV] C=1e-07, degree=3, gamma=0.005, kernel=poly .....................\n",
      "[CV] C=1e-05, degree=2, gamma=0.005, kernel=linear ...................\n",
      "[CV]  C=1e-05, degree=2, gamma=0.005, kernel=linear, score=0.9166666666666666, total=   0.0s\n",
      "[CV]  C=1e-06, degree=3, gamma=0.01, kernel=linear, score=0.8859649122807017, total=   0.0s\n",
      "[CV] C=1e-06, degree=3, gamma=0.01, kernel=linear ....................\n",
      "[CV] C=1e-05, degree=2, gamma=0.005, kernel=linear ...................\n",
      "[CV]  C=1e-06, degree=3, gamma=0.01, kernel=linear, score=0.9251101321585903, total=   0.0s\n",
      "[CV]  C=1e-05, degree=2, gamma=0.005, kernel=linear, score=0.920704845814978, total=   0.0s\n",
      "[CV] C=1e-06, degree=3, gamma=0.01, kernel=poly ......................\n",
      "[CV] C=1e-05, degree=2, gamma=0.005, kernel=poly .....................\n",
      "[CV]  C=1e-05, degree=2, gamma=0.005, kernel=poly, score=0.9385964912280702, total=   0.0s\n",
      "[CV] C=1e-05, degree=2, gamma=0.005, kernel=poly .....................\n",
      "[CV]  C=1e-05, degree=2, gamma=0.005, kernel=poly, score=0.9383259911894273, total=   0.0s\n",
      "[CV] C=1e-05, degree=2, gamma=0.005, kernel=rbf ......................\n",
      "[CV]  C=1e-07, degree=3, gamma=0.005, kernel=poly, score=0.947136563876652, total=   0.1s\n",
      "[CV]  C=1e-05, degree=2, gamma=0.005, kernel=rbf, score=0.631578947368421, total=   0.0s\n",
      "[CV] C=1e-05, degree=2, gamma=0.005, kernel=rbf ......................\n",
      "[CV] C=1e-07, degree=3, gamma=0.005, kernel=rbf ......................\n",
      "[CV]  C=1e-05, degree=2, gamma=0.005, kernel=rbf, score=0.6343612334801763, total=   0.0s\n",
      "[CV] C=1e-05, degree=2, gamma=0.01, kernel=linear ....................\n",
      "[CV]  C=1e-07, degree=3, gamma=0.005, kernel=rbf, score=0.631578947368421, total=   0.0s\n",
      "[CV] C=1e-07, degree=3, gamma=0.005, kernel=rbf ......................\n"
     ]
    },
    {
     "name": "stderr",
     "output_type": "stream",
     "text": [
      "[Parallel(n_jobs=4)]: Done  36 tasks      | elapsed:    0.5s\n"
     ]
    },
    {
     "name": "stdout",
     "output_type": "stream",
     "text": [
      "[CV]  C=1e-05, degree=2, gamma=0.01, kernel=linear, score=0.9166666666666666, total=   0.0s\n",
      "[CV] C=1e-05, degree=2, gamma=0.01, kernel=linear ....................\n",
      "[CV]  C=1e-07, degree=3, gamma=0.005, kernel=rbf, score=0.6343612334801763, total=   0.0s\n",
      "[CV] C=1e-07, degree=3, gamma=0.01, kernel=linear ....................\n",
      "[CV]  C=1e-05, degree=2, gamma=0.01, kernel=linear, score=0.920704845814978, total=   0.0s\n",
      "[CV] C=1e-05, degree=2, gamma=0.01, kernel=poly ......................\n",
      "[CV]  C=1e-07, degree=3, gamma=0.01, kernel=linear, score=0.8464912280701754, total=   0.0s\n",
      "[CV]  C=1e-05, degree=2, gamma=0.01, kernel=poly, score=0.9385964912280702, total=   0.0s\n",
      "[CV] C=1e-07, degree=3, gamma=0.01, kernel=linear ....................\n",
      "[CV]  C=1e-07, degree=3, gamma=0.01, kernel=linear, score=0.8942731277533039, total=   0.0s\n",
      "[CV] C=1e-05, degree=2, gamma=0.01, kernel=poly ......................\n",
      "[CV] C=1e-05, degree=2, gamma=0.01, kernel=rbf .......................\n",
      "[CV]  C=1e-05, degree=2, gamma=0.01, kernel=poly, score=0.933920704845815, total=   0.0s\n",
      "[CV] C=1e-07, degree=3, gamma=0.01, kernel=poly ......................\n",
      "[CV]  C=1e-05, degree=2, gamma=0.01, kernel=rbf, score=0.631578947368421, total=   0.0s\n",
      "[CV] C=1e-05, degree=2, gamma=0.01, kernel=rbf .......................\n",
      "[CV]  C=1e-05, degree=2, gamma=0.01, kernel=rbf, score=0.6343612334801763, total=   0.0s\n",
      "[CV] C=1e-05, degree=3, gamma=0.001, kernel=linear ...................\n",
      "[CV]  C=1e-05, degree=3, gamma=0.001, kernel=linear, score=0.9166666666666666, total=   0.0s\n",
      "[CV] C=1e-05, degree=3, gamma=0.001, kernel=linear ...................\n",
      "[CV]  C=1e-05, degree=3, gamma=0.001, kernel=linear, score=0.920704845814978, total=   0.0s\n",
      "[CV] C=1e-05, degree=3, gamma=0.001, kernel=poly .....................\n",
      "[CV]  C=1e-05, degree=3, gamma=0.001, kernel=poly, score=0.9517543859649122, total=   0.2s\n",
      "[CV] C=1e-05, degree=3, gamma=0.001, kernel=poly .....................\n",
      "[CV]  C=1e-05, degree=3, gamma=0.001, kernel=poly, score=0.947136563876652, total=   0.2s\n",
      "[CV] C=1e-05, degree=3, gamma=0.001, kernel=rbf ......................\n",
      "[CV]  C=1e-05, degree=3, gamma=0.001, kernel=rbf, score=0.631578947368421, total=   0.0s\n",
      "[CV] C=1e-05, degree=3, gamma=0.001, kernel=rbf ......................\n",
      "[CV]  C=1e-05, degree=3, gamma=0.001, kernel=rbf, score=0.6343612334801763, total=   0.0s\n",
      "[CV] C=1e-05, degree=3, gamma=0.005, kernel=linear ...................\n",
      "[CV]  C=1e-05, degree=3, gamma=0.005, kernel=linear, score=0.9166666666666666, total=   0.0s\n",
      "[CV] C=1e-05, degree=3, gamma=0.005, kernel=linear ...................\n",
      "[CV]  C=1e-05, degree=3, gamma=0.005, kernel=linear, score=0.920704845814978, total=   0.0s\n",
      "[CV] C=1e-05, degree=3, gamma=0.005, kernel=poly .....................\n",
      "[CV]  C=1e-06, degree=3, gamma=0.005, kernel=poly, score=0.9473684210526315, total=   1.2s\n",
      "[CV] C=1e-06, degree=3, gamma=0.005, kernel=poly .....................\n",
      "[CV]  C=1e-07, degree=3, gamma=0.01, kernel=poly, score=0.9517543859649122, total=   1.5s\n",
      "[CV] C=1e-07, degree=3, gamma=0.01, kernel=poly ......................\n",
      "[CV]  C=1e-06, degree=3, gamma=0.005, kernel=poly, score=0.9515418502202643, total=   1.7s\n",
      "[CV] C=1e-05, degree=3, gamma=0.01, kernel=rbf .......................\n",
      "[CV]  C=1e-05, degree=3, gamma=0.01, kernel=rbf, score=0.631578947368421, total=   0.0s\n",
      "[CV] C=1e-05, degree=3, gamma=0.01, kernel=rbf .......................\n",
      "[CV]  C=1e-05, degree=3, gamma=0.01, kernel=rbf, score=0.6343612334801763, total=   0.0s\n",
      "[CV] C=0.0001, degree=2, gamma=0.001, kernel=linear ..................\n",
      "[CV]  C=0.0001, degree=2, gamma=0.001, kernel=linear, score=0.9210526315789473, total=   0.0s\n",
      "[CV] C=0.0001, degree=2, gamma=0.001, kernel=linear ..................\n",
      "[CV]  C=0.0001, degree=2, gamma=0.001, kernel=linear, score=0.9251101321585903, total=   0.0s\n",
      "[CV] C=0.0001, degree=2, gamma=0.001, kernel=poly ....................\n",
      "[CV]  C=0.0001, degree=2, gamma=0.001, kernel=poly, score=0.9254385964912281, total=   0.0s\n",
      "[CV] C=0.0001, degree=2, gamma=0.001, kernel=poly ....................\n",
      "[CV]  C=0.0001, degree=2, gamma=0.001, kernel=poly, score=0.9251101321585903, total=   0.0s\n",
      "[CV] C=0.0001, degree=2, gamma=0.001, kernel=rbf .....................\n",
      "[CV]  C=0.0001, degree=2, gamma=0.001, kernel=rbf, score=0.631578947368421, total=   0.0s\n",
      "[CV] C=0.0001, degree=2, gamma=0.001, kernel=rbf .....................\n",
      "[CV]  C=0.0001, degree=2, gamma=0.001, kernel=rbf, score=0.6343612334801763, total=   0.0s\n",
      "[CV] C=0.0001, degree=2, gamma=0.005, kernel=linear ..................\n",
      "[CV]  C=0.0001, degree=2, gamma=0.005, kernel=linear, score=0.9210526315789473, total=   0.0s\n",
      "[CV] C=0.0001, degree=2, gamma=0.005, kernel=linear ..................\n",
      "[CV]  C=0.0001, degree=2, gamma=0.005, kernel=linear, score=0.9251101321585903, total=   0.0s\n",
      "[CV] C=0.0001, degree=2, gamma=0.005, kernel=poly ....................\n",
      "[CV]  C=1e-07, degree=3, gamma=0.01, kernel=poly, score=0.947136563876652, total=   1.3s\n",
      "[CV] C=1e-07, degree=3, gamma=0.01, kernel=rbf .......................\n",
      "[CV]  C=0.0001, degree=2, gamma=0.005, kernel=poly, score=0.9473684210526315, total=   0.0s\n",
      "[CV] C=0.0001, degree=2, gamma=0.005, kernel=poly ....................\n",
      "[CV]  C=1e-07, degree=3, gamma=0.01, kernel=rbf, score=0.631578947368421, total=   0.0s\n",
      "[CV] C=1e-07, degree=3, gamma=0.01, kernel=rbf .......................\n",
      "[CV]  C=1e-07, degree=3, gamma=0.01, kernel=rbf, score=0.6343612334801763, total=   0.0s\n",
      "[CV] C=0.0001, degree=2, gamma=0.01, kernel=linear ...................\n",
      "[CV]  C=0.0001, degree=2, gamma=0.005, kernel=poly, score=0.947136563876652, total=   0.1s\n",
      "[CV] C=0.0001, degree=2, gamma=0.005, kernel=rbf .....................\n",
      "[CV]  C=0.0001, degree=2, gamma=0.01, kernel=linear, score=0.9210526315789473, total=   0.0s\n",
      "[CV] C=0.0001, degree=2, gamma=0.01, kernel=linear ...................\n",
      "[CV]  C=0.0001, degree=2, gamma=0.005, kernel=rbf, score=0.631578947368421, total=   0.0s\n",
      "[CV] C=0.0001, degree=2, gamma=0.005, kernel=rbf .....................\n",
      "[CV]  C=0.0001, degree=2, gamma=0.01, kernel=linear, score=0.9251101321585903, total=   0.0s\n",
      "[CV] C=0.0001, degree=2, gamma=0.01, kernel=poly .....................\n",
      "[CV]  C=0.0001, degree=2, gamma=0.005, kernel=rbf, score=0.6343612334801763, total=   0.0s\n",
      "[CV] C=0.0001, degree=3, gamma=0.005, kernel=poly ....................\n",
      "[CV]  C=0.0001, degree=2, gamma=0.01, kernel=poly, score=0.9517543859649122, total=   0.1s\n",
      "[CV] C=0.0001, degree=2, gamma=0.01, kernel=poly .....................\n",
      "[CV]  C=0.0001, degree=2, gamma=0.01, kernel=poly, score=0.9427312775330396, total=   0.1s\n",
      "[CV] C=0.0001, degree=2, gamma=0.01, kernel=rbf ......................\n",
      "[CV]  C=0.0001, degree=2, gamma=0.01, kernel=rbf, score=0.631578947368421, total=   0.0s\n",
      "[CV] C=0.0001, degree=2, gamma=0.01, kernel=rbf ......................\n",
      "[CV]  C=0.0001, degree=2, gamma=0.01, kernel=rbf, score=0.6343612334801763, total=   0.0s\n",
      "[CV] C=0.0001, degree=3, gamma=0.001, kernel=linear ..................\n",
      "[CV]  C=0.0001, degree=3, gamma=0.001, kernel=linear, score=0.9210526315789473, total=   0.0s\n",
      "[CV] C=0.0001, degree=3, gamma=0.001, kernel=linear ..................\n",
      "[CV]  C=0.0001, degree=3, gamma=0.001, kernel=linear, score=0.9251101321585903, total=   0.0s\n",
      "[CV] C=0.0001, degree=3, gamma=0.001, kernel=poly ....................\n",
      "[CV]  C=0.0001, degree=3, gamma=0.001, kernel=poly, score=0.9517543859649122, total=   0.8s\n",
      "[CV] C=0.0001, degree=3, gamma=0.001, kernel=poly ....................\n",
      "[CV]  C=1e-06, degree=3, gamma=0.01, kernel=poly, score=0.9473684210526315, total=   5.1s\n",
      "[CV] C=1e-06, degree=3, gamma=0.01, kernel=poly ......................\n",
      "[CV]  C=0.0001, degree=3, gamma=0.001, kernel=poly, score=0.947136563876652, total=   0.8s\n",
      "[CV] C=0.0001, degree=3, gamma=0.001, kernel=rbf .....................\n",
      "[CV]  C=0.0001, degree=3, gamma=0.001, kernel=rbf, score=0.631578947368421, total=   0.0s\n",
      "[CV] C=0.0001, degree=3, gamma=0.001, kernel=rbf .....................\n",
      "[CV]  C=0.0001, degree=3, gamma=0.001, kernel=rbf, score=0.6343612334801763, total=   0.0s\n",
      "[CV] C=0.0001, degree=3, gamma=0.005, kernel=linear ..................\n",
      "[CV]  C=0.0001, degree=3, gamma=0.005, kernel=linear, score=0.9210526315789473, total=   0.0s\n"
     ]
    },
    {
     "name": "stdout",
     "output_type": "stream",
     "text": [
      "[CV] C=0.0001, degree=3, gamma=0.005, kernel=linear ..................\n",
      "[CV]  C=0.0001, degree=3, gamma=0.005, kernel=linear, score=0.9251101321585903, total=   0.0s\n",
      "[CV] C=0.001, degree=2, gamma=0.001, kernel=rbf ......................\n",
      "[CV]  C=0.001, degree=2, gamma=0.001, kernel=rbf, score=0.631578947368421, total=   0.0s\n",
      "[CV] C=0.001, degree=2, gamma=0.001, kernel=rbf ......................\n",
      "[CV]  C=0.001, degree=2, gamma=0.001, kernel=rbf, score=0.6343612334801763, total=   0.0s\n",
      "[CV] C=0.001, degree=2, gamma=0.005, kernel=linear ...................\n",
      "[CV]  C=0.001, degree=2, gamma=0.005, kernel=linear, score=0.9385964912280702, total=   0.0s\n",
      "[CV] C=0.001, degree=2, gamma=0.005, kernel=linear ...................\n",
      "[CV]  C=0.001, degree=2, gamma=0.005, kernel=linear, score=0.9427312775330396, total=   0.0s\n",
      "[CV] C=0.001, degree=2, gamma=0.005, kernel=poly .....................\n"
     ]
    },
    {
     "name": "stderr",
     "output_type": "stream",
     "text": [
      "[Parallel(n_jobs=4)]: Batch computation too slow (2.5913s.) Setting batch_size=7.\n"
     ]
    },
    {
     "name": "stdout",
     "output_type": "stream",
     "text": [
      "[CV]  C=0.001, degree=2, gamma=0.005, kernel=poly, score=0.9517543859649122, total=   0.1s\n",
      "[CV] C=0.001, degree=2, gamma=0.005, kernel=poly .....................\n",
      "[CV]  C=1e-05, degree=3, gamma=0.005, kernel=poly, score=0.9429824561403509, total=   4.8s\n",
      "[CV] C=1e-05, degree=3, gamma=0.005, kernel=poly .....................\n",
      "[CV]  C=0.001, degree=2, gamma=0.005, kernel=poly, score=0.947136563876652, total=   0.2s\n",
      "[CV] C=0.001, degree=2, gamma=0.005, kernel=rbf ......................\n",
      "[CV]  C=0.001, degree=2, gamma=0.005, kernel=rbf, score=0.631578947368421, total=   0.0s\n",
      "[CV] C=0.001, degree=2, gamma=0.005, kernel=rbf ......................\n",
      "[CV]  C=0.001, degree=2, gamma=0.005, kernel=rbf, score=0.6343612334801763, total=   0.0s\n",
      "[CV] C=0.001, degree=2, gamma=0.01, kernel=linear ....................\n",
      "[CV]  C=0.001, degree=2, gamma=0.01, kernel=linear, score=0.9385964912280702, total=   0.0s\n",
      "[CV] C=0.001, degree=2, gamma=0.01, kernel=linear ....................\n",
      "[CV]  C=0.001, degree=2, gamma=0.01, kernel=linear, score=0.9427312775330396, total=   0.0s\n",
      "[CV] C=0.001, degree=2, gamma=0.01, kernel=poly ......................\n",
      "[CV]  C=0.001, degree=2, gamma=0.01, kernel=poly, score=0.956140350877193, total=   0.4s\n",
      "[CV] C=0.001, degree=2, gamma=0.01, kernel=poly ......................\n",
      "[CV]  C=0.001, degree=2, gamma=0.01, kernel=poly, score=0.960352422907489, total=   1.8s\n",
      "[CV] C=0.001, degree=2, gamma=0.01, kernel=rbf .......................\n",
      "[CV]  C=0.001, degree=2, gamma=0.01, kernel=rbf, score=0.631578947368421, total=   0.0s\n",
      "[CV] C=0.001, degree=2, gamma=0.01, kernel=rbf .......................\n",
      "[CV]  C=0.001, degree=2, gamma=0.01, kernel=rbf, score=0.6343612334801763, total=   0.0s\n",
      "[CV] C=0.001, degree=3, gamma=0.001, kernel=linear ...................\n",
      "[CV]  C=0.001, degree=3, gamma=0.001, kernel=linear, score=0.9385964912280702, total=   0.0s\n",
      "[CV] C=0.001, degree=3, gamma=0.001, kernel=linear ...................\n",
      "[CV]  C=0.001, degree=3, gamma=0.001, kernel=linear, score=0.9427312775330396, total=   0.0s\n",
      "[CV] C=0.001, degree=3, gamma=0.001, kernel=poly .....................\n",
      "[CV]  C=1e-06, degree=3, gamma=0.01, kernel=poly, score=0.960352422907489, total=   5.1s\n",
      "[CV] C=1e-06, degree=3, gamma=0.01, kernel=rbf .......................\n",
      "[CV]  C=1e-06, degree=3, gamma=0.01, kernel=rbf, score=0.631578947368421, total=   0.0s\n",
      "[CV] C=1e-06, degree=3, gamma=0.01, kernel=rbf .......................\n",
      "[CV]  C=1e-06, degree=3, gamma=0.01, kernel=rbf, score=0.6343612334801763, total=   0.0s\n",
      "[CV] C=1e-05, degree=2, gamma=0.001, kernel=linear ...................\n",
      "[CV]  C=1e-05, degree=2, gamma=0.001, kernel=linear, score=0.9166666666666666, total=   0.0s\n",
      "[CV] C=1e-05, degree=2, gamma=0.001, kernel=linear ...................\n",
      "[CV]  C=1e-05, degree=2, gamma=0.001, kernel=linear, score=0.920704845814978, total=   0.0s\n",
      "[CV] C=1e-05, degree=2, gamma=0.001, kernel=poly .....................\n",
      "[CV]  C=1e-05, degree=2, gamma=0.001, kernel=poly, score=0.9166666666666666, total=   0.0s\n",
      "[CV] C=1e-05, degree=2, gamma=0.001, kernel=poly .....................\n",
      "[CV]  C=1e-05, degree=2, gamma=0.001, kernel=poly, score=0.920704845814978, total=   0.0s\n",
      "[CV] C=1e-05, degree=2, gamma=0.001, kernel=rbf ......................\n",
      "[CV]  C=1e-05, degree=2, gamma=0.001, kernel=rbf, score=0.631578947368421, total=   0.0s\n",
      "[CV] C=1e-05, degree=2, gamma=0.001, kernel=rbf ......................\n",
      "[CV]  C=1e-05, degree=2, gamma=0.001, kernel=rbf, score=0.6343612334801763, total=   0.0s\n",
      "[CV] C=0.001, degree=3, gamma=0.01, kernel=poly ......................\n"
     ]
    },
    {
     "name": "stderr",
     "output_type": "stream",
     "text": [
      "[Parallel(n_jobs=4)]: Done 134 tasks      | elapsed:   10.9s\n"
     ]
    },
    {
     "name": "stdout",
     "output_type": "stream",
     "text": [
      "[CV]  C=1e-05, degree=3, gamma=0.005, kernel=poly, score=0.960352422907489, total=   7.8s\n",
      "[CV] C=1e-05, degree=3, gamma=0.005, kernel=rbf ......................\n",
      "[CV]  C=1e-05, degree=3, gamma=0.005, kernel=rbf, score=0.631578947368421, total=   0.0s\n",
      "[CV] C=1e-05, degree=3, gamma=0.005, kernel=rbf ......................\n",
      "[CV]  C=1e-05, degree=3, gamma=0.005, kernel=rbf, score=0.6343612334801763, total=   0.0s\n",
      "[CV] C=1e-05, degree=3, gamma=0.01, kernel=linear ....................\n",
      "[CV]  C=1e-05, degree=3, gamma=0.01, kernel=linear, score=0.9166666666666666, total=   0.0s\n",
      "[CV] C=1e-05, degree=3, gamma=0.01, kernel=linear ....................\n",
      "[CV]  C=1e-05, degree=3, gamma=0.01, kernel=linear, score=0.920704845814978, total=   0.0s\n",
      "[CV] C=1e-05, degree=3, gamma=0.01, kernel=poly ......................\n",
      "[CV]  C=0.001, degree=3, gamma=0.001, kernel=poly, score=0.9342105263157895, total=   5.5s\n",
      "[CV] C=0.001, degree=3, gamma=0.001, kernel=poly .....................\n",
      "[CV]  C=0.001, degree=3, gamma=0.001, kernel=poly, score=0.9559471365638766, total=   3.7s\n",
      "[CV] C=0.001, degree=3, gamma=0.001, kernel=rbf ......................\n",
      "[CV]  C=0.001, degree=3, gamma=0.001, kernel=rbf, score=0.631578947368421, total=   0.0s\n",
      "[CV] C=0.001, degree=3, gamma=0.001, kernel=rbf ......................\n",
      "[CV]  C=0.001, degree=3, gamma=0.001, kernel=rbf, score=0.6343612334801763, total=   0.0s\n",
      "[CV] C=0.001, degree=3, gamma=0.005, kernel=linear ...................\n",
      "[CV]  C=0.001, degree=3, gamma=0.005, kernel=linear, score=0.9385964912280702, total=   0.0s\n",
      "[CV] C=0.001, degree=3, gamma=0.005, kernel=linear ...................\n",
      "[CV]  C=0.001, degree=3, gamma=0.005, kernel=linear, score=0.9427312775330396, total=   0.0s\n",
      "[CV] C=0.001, degree=3, gamma=0.005, kernel=poly .....................\n",
      "[CV]  C=0.0001, degree=3, gamma=0.005, kernel=poly, score=0.9342105263157895, total=  27.5s\n",
      "[CV] C=0.0001, degree=3, gamma=0.005, kernel=poly ....................\n",
      "[CV]  C=0.0001, degree=3, gamma=0.005, kernel=poly, score=0.9691629955947136, total=   6.6s\n",
      "[CV] C=0.0001, degree=3, gamma=0.005, kernel=rbf .....................\n",
      "[CV]  C=0.0001, degree=3, gamma=0.005, kernel=rbf, score=0.631578947368421, total=   0.0s\n",
      "[CV] C=0.0001, degree=3, gamma=0.005, kernel=rbf .....................\n",
      "[CV]  C=0.0001, degree=3, gamma=0.005, kernel=rbf, score=0.6343612334801763, total=   0.0s\n",
      "[CV] C=0.0001, degree=3, gamma=0.01, kernel=linear ...................\n",
      "[CV]  C=0.0001, degree=3, gamma=0.01, kernel=linear, score=0.9210526315789473, total=   0.0s\n",
      "[CV] C=0.0001, degree=3, gamma=0.01, kernel=linear ...................\n",
      "[CV]  C=0.0001, degree=3, gamma=0.01, kernel=linear, score=0.9251101321585903, total=   0.0s\n",
      "[CV] C=0.0001, degree=3, gamma=0.01, kernel=poly .....................\n",
      "[CV]  C=1e-05, degree=3, gamma=0.01, kernel=poly, score=0.9342105263157895, total=  28.5s\n",
      "[CV] C=1e-05, degree=3, gamma=0.01, kernel=poly ......................\n",
      "[CV]  C=1e-05, degree=3, gamma=0.01, kernel=poly, score=0.9691629955947136, total=   8.3s\n",
      "[CV] C=0.01, degree=2, gamma=0.005, kernel=rbf .......................\n",
      "[CV]  C=0.01, degree=2, gamma=0.005, kernel=rbf, score=0.631578947368421, total=   0.0s\n",
      "[CV] C=0.01, degree=2, gamma=0.005, kernel=rbf .......................\n",
      "[CV]  C=0.01, degree=2, gamma=0.005, kernel=rbf, score=0.6343612334801763, total=   0.0s\n",
      "[CV] C=0.01, degree=2, gamma=0.01, kernel=linear .....................\n",
      "[CV]  C=0.01, degree=2, gamma=0.01, kernel=linear, score=0.9473684210526315, total=   0.0s\n",
      "[CV] C=0.01, degree=2, gamma=0.01, kernel=linear .....................\n",
      "[CV]  C=0.01, degree=2, gamma=0.01, kernel=linear, score=0.947136563876652, total=   0.0s\n",
      "[CV] C=0.01, degree=2, gamma=0.01, kernel=poly .......................\n",
      "[CV]  C=0.01, degree=2, gamma=0.01, kernel=poly, score=0.9605263157894737, total=   1.6s\n",
      "[CV] C=0.01, degree=2, gamma=0.01, kernel=poly .......................\n",
      "[CV]  C=0.01, degree=2, gamma=0.01, kernel=poly, score=0.960352422907489, total=   3.2s\n",
      "[CV] C=0.01, degree=2, gamma=0.01, kernel=rbf ........................\n",
      "[CV]  C=0.01, degree=2, gamma=0.01, kernel=rbf, score=0.631578947368421, total=   0.0s\n",
      "[CV] C=0.01, degree=2, gamma=0.01, kernel=rbf ........................\n",
      "[CV]  C=0.01, degree=2, gamma=0.01, kernel=rbf, score=0.6343612334801763, total=   0.0s\n",
      "[CV] C=0.01, degree=3, gamma=0.001, kernel=linear ....................\n",
      "[CV]  C=0.01, degree=3, gamma=0.001, kernel=linear, score=0.9473684210526315, total=   0.0s\n",
      "[CV] C=0.01, degree=3, gamma=0.001, kernel=linear ....................\n",
      "[CV]  C=0.01, degree=3, gamma=0.001, kernel=linear, score=0.947136563876652, total=   0.0s\n",
      "[CV] C=0.01, degree=3, gamma=0.001, kernel=poly ......................\n",
      "[CV]  C=0.01, degree=3, gamma=0.001, kernel=poly, score=0.9385964912280702, total=  42.1s\n",
      "[CV] C=0.01, degree=3, gamma=0.001, kernel=poly ......................\n",
      "[CV]  C=0.01, degree=3, gamma=0.001, kernel=poly, score=0.9515418502202643, total=   5.8s\n",
      "[CV] C=0.01, degree=3, gamma=0.001, kernel=rbf .......................\n",
      "[CV]  C=0.01, degree=3, gamma=0.001, kernel=rbf, score=0.631578947368421, total=   0.0s\n",
      "[CV] C=0.01, degree=3, gamma=0.001, kernel=rbf .......................\n",
      "[CV]  C=0.01, degree=3, gamma=0.001, kernel=rbf, score=0.6343612334801763, total=   0.0s\n",
      "[CV] C=0.01, degree=3, gamma=0.005, kernel=linear ....................\n",
      "[CV]  C=0.01, degree=3, gamma=0.005, kernel=linear, score=0.9473684210526315, total=   0.0s\n",
      "[CV] C=0.01, degree=3, gamma=0.005, kernel=linear ....................\n",
      "[CV]  C=0.01, degree=3, gamma=0.005, kernel=linear, score=0.947136563876652, total=   0.0s\n",
      "[CV] C=0.01, degree=3, gamma=0.005, kernel=poly ......................\n",
      "[CV]  C=0.001, degree=3, gamma=0.01, kernel=poly, score=0.9429824561403509, total= 3.1min\n",
      "[CV] C=0.001, degree=3, gamma=0.01, kernel=poly ......................\n",
      "[CV]  C=0.001, degree=3, gamma=0.005, kernel=poly, score=0.9429824561403509, total= 3.2min\n",
      "[CV] C=0.001, degree=3, gamma=0.005, kernel=poly .....................\n",
      "[CV]  C=0.0001, degree=3, gamma=0.01, kernel=poly, score=0.9429824561403509, total= 3.2min\n",
      "[CV] C=0.0001, degree=3, gamma=0.01, kernel=poly .....................\n",
      "[CV]  C=0.001, degree=3, gamma=0.005, kernel=poly, score=0.9427312775330396, total=  38.5s\n",
      "[CV] C=0.001, degree=3, gamma=0.005, kernel=rbf ......................\n",
      "[CV]  C=0.001, degree=3, gamma=0.005, kernel=rbf, score=0.631578947368421, total=   0.0s\n",
      "[CV] C=0.001, degree=3, gamma=0.005, kernel=rbf ......................\n",
      "[CV]  C=0.001, degree=3, gamma=0.005, kernel=rbf, score=0.6343612334801763, total=   0.0s\n",
      "[CV] C=0.001, degree=3, gamma=0.01, kernel=linear ....................\n",
      "[CV]  C=0.001, degree=3, gamma=0.01, kernel=linear, score=0.9385964912280702, total=   0.0s\n",
      "[CV] C=0.001, degree=3, gamma=0.01, kernel=linear ....................\n",
      "[CV]  C=0.001, degree=3, gamma=0.01, kernel=linear, score=0.9427312775330396, total=   0.0s\n",
      "[CV] C=0.01, degree=3, gamma=0.01, kernel=linear .....................\n",
      "[CV]  C=0.01, degree=3, gamma=0.01, kernel=linear, score=0.947136563876652, total=   0.0s\n",
      "[CV] C=0.01, degree=3, gamma=0.01, kernel=poly .......................\n",
      "[CV]  C=0.001, degree=3, gamma=0.01, kernel=poly, score=0.9427312775330396, total=  55.4s\n",
      "[CV] C=0.001, degree=3, gamma=0.01, kernel=rbf .......................\n",
      "[CV]  C=0.001, degree=3, gamma=0.01, kernel=rbf, score=0.631578947368421, total=   0.0s\n",
      "[CV] C=0.001, degree=3, gamma=0.01, kernel=rbf .......................\n",
      "[CV]  C=0.001, degree=3, gamma=0.01, kernel=rbf, score=0.6343612334801763, total=   0.0s\n",
      "[CV] C=0.01, degree=2, gamma=0.001, kernel=linear ....................\n",
      "[CV]  C=0.01, degree=2, gamma=0.001, kernel=linear, score=0.9473684210526315, total=   0.0s\n",
      "[CV] C=0.01, degree=2, gamma=0.001, kernel=linear ....................\n",
      "[CV]  C=0.01, degree=2, gamma=0.001, kernel=linear, score=0.947136563876652, total=   0.0s\n",
      "[CV] C=0.01, degree=2, gamma=0.001, kernel=poly ......................\n",
      "[CV]  C=0.01, degree=2, gamma=0.001, kernel=poly, score=0.9517543859649122, total=   0.1s\n",
      "[CV] C=0.01, degree=2, gamma=0.001, kernel=poly ......................\n",
      "[CV]  C=0.01, degree=2, gamma=0.001, kernel=poly, score=0.9427312775330396, total=   0.1s\n",
      "[CV] C=0.01, degree=2, gamma=0.001, kernel=rbf .......................\n"
     ]
    },
    {
     "name": "stdout",
     "output_type": "stream",
     "text": [
      "[CV]  C=0.01, degree=2, gamma=0.001, kernel=rbf, score=0.631578947368421, total=   0.0s\n",
      "[CV] C=0.01, degree=2, gamma=0.001, kernel=rbf .......................\n",
      "[CV]  C=0.01, degree=2, gamma=0.001, kernel=rbf, score=0.6343612334801763, total=   0.0s\n",
      "[CV] C=0.01, degree=2, gamma=0.005, kernel=linear ....................\n",
      "[CV]  C=0.01, degree=2, gamma=0.005, kernel=linear, score=0.9473684210526315, total=   0.0s\n",
      "[CV] C=0.01, degree=2, gamma=0.005, kernel=linear ....................\n",
      "[CV]  C=0.01, degree=2, gamma=0.005, kernel=linear, score=0.947136563876652, total=   0.0s\n",
      "[CV] C=0.01, degree=2, gamma=0.005, kernel=poly ......................\n",
      "[CV]  C=0.01, degree=2, gamma=0.005, kernel=poly, score=0.9517543859649122, total=   0.8s\n",
      "[CV] C=0.01, degree=2, gamma=0.005, kernel=poly ......................\n",
      "[CV]  C=0.01, degree=2, gamma=0.005, kernel=poly, score=0.947136563876652, total=   1.2s\n",
      "[CV] C=0.1, degree=2, gamma=0.001, kernel=poly .......................\n",
      "[CV]  C=0.1, degree=2, gamma=0.001, kernel=poly, score=0.956140350877193, total=   0.3s\n",
      "[CV] C=0.1, degree=2, gamma=0.001, kernel=poly .......................\n",
      "[CV]  C=0.1, degree=2, gamma=0.001, kernel=poly, score=0.9515418502202643, total=   2.1s\n",
      "[CV] C=0.1, degree=2, gamma=0.001, kernel=rbf ........................\n",
      "[CV]  C=0.1, degree=2, gamma=0.001, kernel=rbf, score=0.631578947368421, total=   0.0s\n",
      "[CV] C=0.1, degree=2, gamma=0.001, kernel=rbf ........................\n",
      "[CV]  C=0.1, degree=2, gamma=0.001, kernel=rbf, score=0.6343612334801763, total=   0.0s\n",
      "[CV] C=0.1, degree=2, gamma=0.005, kernel=linear .....................\n",
      "[CV]  C=0.1, degree=2, gamma=0.005, kernel=linear, score=0.9385964912280702, total=   0.1s\n",
      "[CV] C=0.1, degree=2, gamma=0.005, kernel=linear .....................\n",
      "[CV]  C=0.1, degree=2, gamma=0.005, kernel=linear, score=0.947136563876652, total=   0.2s\n",
      "[CV] C=0.1, degree=2, gamma=0.005, kernel=poly .......................\n",
      "[CV]  C=0.0001, degree=3, gamma=0.01, kernel=poly, score=0.947136563876652, total=  30.3s\n",
      "[CV] C=0.0001, degree=3, gamma=0.01, kernel=rbf ......................\n",
      "[CV]  C=0.0001, degree=3, gamma=0.01, kernel=rbf, score=0.631578947368421, total=   0.0s\n",
      "[CV] C=0.0001, degree=3, gamma=0.01, kernel=rbf ......................\n",
      "[CV]  C=0.0001, degree=3, gamma=0.01, kernel=rbf, score=0.6343612334801763, total=   0.0s\n",
      "[CV] C=0.001, degree=2, gamma=0.001, kernel=linear ...................\n",
      "[CV]  C=0.001, degree=2, gamma=0.001, kernel=linear, score=0.9385964912280702, total=   0.0s\n",
      "[CV] C=0.001, degree=2, gamma=0.001, kernel=linear ...................\n",
      "[CV]  C=0.001, degree=2, gamma=0.001, kernel=linear, score=0.9427312775330396, total=   0.0s\n",
      "[CV] C=0.001, degree=2, gamma=0.001, kernel=poly .....................\n",
      "[CV]  C=0.001, degree=2, gamma=0.001, kernel=poly, score=0.9385964912280702, total=   0.0s\n",
      "[CV] C=0.001, degree=2, gamma=0.001, kernel=poly .....................\n",
      "[CV]  C=0.001, degree=2, gamma=0.001, kernel=poly, score=0.933920704845815, total=   0.0s\n",
      "[CV] C=0.1, degree=2, gamma=0.005, kernel=poly .......................\n",
      "[CV]  C=0.1, degree=2, gamma=0.005, kernel=poly, score=0.956140350877193, total=   3.5s\n",
      "[CV] C=0.1, degree=2, gamma=0.01, kernel=rbf .........................\n",
      "[CV]  C=0.1, degree=2, gamma=0.01, kernel=rbf, score=0.631578947368421, total=   0.0s\n",
      "[CV] C=0.1, degree=2, gamma=0.01, kernel=rbf .........................\n",
      "[CV]  C=0.1, degree=2, gamma=0.01, kernel=rbf, score=0.6343612334801763, total=   0.0s\n",
      "[CV] C=0.1, degree=3, gamma=0.001, kernel=linear .....................\n",
      "[CV]  C=0.1, degree=3, gamma=0.001, kernel=linear, score=0.9385964912280702, total=   0.1s\n"
     ]
    },
    {
     "name": "stderr",
     "output_type": "stream",
     "text": [
      "[Parallel(n_jobs=4)]: Batch computation too slow (252.9533s.) Setting batch_size=3.\n"
     ]
    },
    {
     "name": "stdout",
     "output_type": "stream",
     "text": [
      "[CV] C=0.1, degree=3, gamma=0.001, kernel=linear .....................\n",
      "[CV]  C=0.1, degree=3, gamma=0.001, kernel=linear, score=0.947136563876652, total=   0.3s\n",
      "[CV] C=0.1, degree=3, gamma=0.001, kernel=poly .......................\n",
      "[CV]  C=0.1, degree=2, gamma=0.005, kernel=poly, score=0.9647577092511013, total=   5.4s\n",
      "[CV] C=0.1, degree=2, gamma=0.005, kernel=rbf ........................\n",
      "[CV]  C=0.1, degree=2, gamma=0.005, kernel=rbf, score=0.631578947368421, total=   0.0s\n",
      "[CV] C=0.1, degree=2, gamma=0.005, kernel=rbf ........................\n",
      "[CV]  C=0.1, degree=2, gamma=0.005, kernel=rbf, score=0.6343612334801763, total=   0.0s\n",
      "[CV] C=0.1, degree=2, gamma=0.01, kernel=linear ......................\n",
      "[CV]  C=0.1, degree=2, gamma=0.01, kernel=linear, score=0.9385964912280702, total=   0.1s\n",
      "[CV] C=0.1, degree=2, gamma=0.01, kernel=linear ......................\n",
      "[CV]  C=0.1, degree=2, gamma=0.01, kernel=linear, score=0.947136563876652, total=   0.2s\n",
      "[CV] C=0.1, degree=2, gamma=0.01, kernel=poly ........................\n",
      "[CV]  C=0.01, degree=3, gamma=0.005, kernel=poly, score=0.9429824561403509, total= 3.2min\n",
      "[CV] C=0.01, degree=3, gamma=0.005, kernel=poly ......................\n",
      "[CV]  C=0.1, degree=3, gamma=0.001, kernel=poly, score=0.9385964912280702, total=  33.3s\n",
      "[CV] C=0.1, degree=3, gamma=0.001, kernel=poly .......................\n",
      "[CV]  C=0.1, degree=2, gamma=0.01, kernel=poly, score=0.9517543859649122, total=  32.1s\n",
      "[CV] C=0.1, degree=2, gamma=0.01, kernel=poly ........................\n",
      "[CV]  C=0.1, degree=2, gamma=0.01, kernel=poly, score=0.9383259911894273, total=   7.9s\n",
      "[CV] C=0.1, degree=3, gamma=0.001, kernel=rbf ........................\n",
      "[CV]  C=0.1, degree=3, gamma=0.001, kernel=rbf, score=0.6343612334801763, total=   0.0s\n",
      "[CV] C=0.1, degree=3, gamma=0.005, kernel=linear .....................\n",
      "[CV]  C=0.1, degree=3, gamma=0.005, kernel=linear, score=0.9385964912280702, total=   0.1s\n",
      "[CV] C=0.1, degree=3, gamma=0.005, kernel=linear .....................\n"
     ]
    },
    {
     "name": "stderr",
     "output_type": "stream",
     "text": [
      "[Parallel(n_jobs=4)]: Done 218 tasks      | elapsed:  5.1min\n"
     ]
    },
    {
     "name": "stdout",
     "output_type": "stream",
     "text": [
      "[CV]  C=0.1, degree=3, gamma=0.005, kernel=linear, score=0.947136563876652, total=   0.2s\n",
      "[CV] C=0.1, degree=3, gamma=0.005, kernel=poly .......................\n",
      "[CV]  C=0.1, degree=3, gamma=0.001, kernel=poly, score=0.947136563876652, total=  45.7s\n",
      "[CV] C=0.1, degree=3, gamma=0.001, kernel=rbf ........................\n",
      "[CV]  C=0.1, degree=3, gamma=0.001, kernel=rbf, score=0.631578947368421, total=   0.0s\n",
      "[CV] C=0.1, degree=3, gamma=0.01, kernel=linear ......................\n",
      "[CV]  C=0.1, degree=3, gamma=0.01, kernel=linear, score=0.9385964912280702, total=   0.1s\n",
      "[CV] C=0.1, degree=3, gamma=0.01, kernel=linear ......................\n",
      "[CV]  C=0.1, degree=3, gamma=0.01, kernel=linear, score=0.947136563876652, total=   0.2s\n",
      "[CV] C=0.1, degree=3, gamma=0.01, kernel=poly ........................\n",
      "[CV]  C=0.01, degree=3, gamma=0.005, kernel=poly, score=0.9427312775330396, total=  53.0s\n",
      "[CV] C=0.01, degree=3, gamma=0.005, kernel=rbf .......................\n",
      "[CV]  C=0.01, degree=3, gamma=0.005, kernel=rbf, score=0.631578947368421, total=   0.0s\n",
      "[CV] C=0.01, degree=3, gamma=0.005, kernel=rbf .......................\n",
      "[CV]  C=0.01, degree=3, gamma=0.005, kernel=rbf, score=0.6343612334801763, total=   0.0s\n",
      "[CV] C=0.01, degree=3, gamma=0.01, kernel=linear .....................\n",
      "[CV]  C=0.01, degree=3, gamma=0.01, kernel=linear, score=0.9473684210526315, total=   0.0s\n",
      "[CV] C=1.0, degree=2, gamma=0.001, kernel=linear .....................\n",
      "[CV]  C=1.0, degree=2, gamma=0.001, kernel=linear, score=0.9559471365638766, total=   1.6s\n",
      "[CV] C=1.0, degree=2, gamma=0.001, kernel=poly .......................\n",
      "[CV]  C=1.0, degree=2, gamma=0.001, kernel=poly, score=0.956140350877193, total=   2.0s\n",
      "[CV] C=1.0, degree=2, gamma=0.001, kernel=poly .......................\n",
      "[CV]  C=1.0, degree=2, gamma=0.001, kernel=poly, score=0.960352422907489, total=   5.5s\n",
      "[CV] C=1.0, degree=2, gamma=0.001, kernel=rbf ........................\n",
      "[CV]  C=1.0, degree=2, gamma=0.001, kernel=rbf, score=0.9254385964912281, total=   0.0s\n",
      "[CV] C=1.0, degree=2, gamma=0.001, kernel=rbf ........................\n",
      "[CV]  C=1.0, degree=2, gamma=0.001, kernel=rbf, score=0.9074889867841409, total=   0.0s\n",
      "[CV] C=1.0, degree=2, gamma=0.005, kernel=linear .....................\n",
      "[CV]  C=1.0, degree=2, gamma=0.005, kernel=linear, score=0.9517543859649122, total=   0.4s\n",
      "[CV] C=1.0, degree=2, gamma=0.005, kernel=linear .....................\n",
      "[CV]  C=1.0, degree=2, gamma=0.005, kernel=linear, score=0.9559471365638766, total=   1.5s\n",
      "[CV] C=1.0, degree=2, gamma=0.005, kernel=poly .......................\n",
      "[CV]  C=1.0, degree=2, gamma=0.005, kernel=poly, score=0.9473684210526315, total=  35.4s\n",
      "[CV] C=1.0, degree=2, gamma=0.005, kernel=poly .......................\n",
      "[CV]  C=1.0, degree=2, gamma=0.005, kernel=poly, score=0.9559471365638766, total=   4.7s\n",
      "[CV] C=1.0, degree=2, gamma=0.005, kernel=rbf ........................\n",
      "[CV]  C=1.0, degree=2, gamma=0.005, kernel=rbf, score=0.6447368421052632, total=   0.0s\n",
      "[CV] C=1.0, degree=2, gamma=0.005, kernel=rbf ........................\n",
      "[CV]  C=1.0, degree=2, gamma=0.005, kernel=rbf, score=0.6475770925110133, total=   0.0s\n",
      "[CV] C=1.0, degree=2, gamma=0.01, kernel=linear ......................\n"
     ]
    },
    {
     "name": "stderr",
     "output_type": "stream",
     "text": [
      "[Parallel(n_jobs=4)]: Batch computation too slow (134.7150s.) Setting batch_size=1.\n"
     ]
    },
    {
     "name": "stdout",
     "output_type": "stream",
     "text": [
      "[CV]  C=1.0, degree=2, gamma=0.01, kernel=linear, score=0.9517543859649122, total=   0.4s\n",
      "[CV] C=1.0, degree=2, gamma=0.01, kernel=linear ......................\n",
      "[CV]  C=1.0, degree=2, gamma=0.01, kernel=linear, score=0.9559471365638766, total=   1.6s\n",
      "[CV] C=1.0, degree=2, gamma=0.01, kernel=poly ........................\n",
      "[CV]  C=1.0, degree=2, gamma=0.01, kernel=poly, score=0.9473684210526315, total=  23.9s\n",
      "[CV] C=1.0, degree=2, gamma=0.01, kernel=poly ........................\n",
      "[CV]  C=0.01, degree=3, gamma=0.01, kernel=poly, score=0.9429824561403509, total= 3.1min\n",
      "[CV] C=0.01, degree=3, gamma=0.01, kernel=poly .......................\n",
      "[CV]  C=1.0, degree=2, gamma=0.01, kernel=poly, score=0.947136563876652, total=  14.0s\n",
      "[CV] C=1.0, degree=2, gamma=0.01, kernel=rbf .........................\n",
      "[CV]  C=1.0, degree=2, gamma=0.01, kernel=rbf, score=0.631578947368421, total=   0.0s\n",
      "[CV] C=1.0, degree=2, gamma=0.01, kernel=rbf .........................\n",
      "[CV]  C=1.0, degree=2, gamma=0.01, kernel=rbf, score=0.6343612334801763, total=   0.0s\n",
      "[CV] C=1.0, degree=3, gamma=0.001, kernel=linear .....................\n",
      "[CV]  C=1.0, degree=3, gamma=0.001, kernel=linear, score=0.9517543859649122, total=   0.4s\n",
      "[CV] C=1.0, degree=3, gamma=0.001, kernel=linear .....................\n",
      "[CV]  C=1.0, degree=3, gamma=0.001, kernel=linear, score=0.9559471365638766, total=   1.7s\n",
      "[CV] C=1.0, degree=3, gamma=0.001, kernel=poly .......................\n",
      "[CV]  C=1.0, degree=3, gamma=0.001, kernel=poly, score=0.9385964912280702, total=  34.3s\n",
      "[CV] C=1.0, degree=3, gamma=0.001, kernel=poly .......................\n",
      "[CV]  C=0.01, degree=3, gamma=0.01, kernel=poly, score=0.9427312775330396, total=  52.2s\n",
      "[CV] C=0.01, degree=3, gamma=0.01, kernel=rbf ........................\n",
      "[CV]  C=0.01, degree=3, gamma=0.01, kernel=rbf, score=0.631578947368421, total=   0.0s\n",
      "[CV] C=0.01, degree=3, gamma=0.01, kernel=rbf ........................\n",
      "[CV]  C=0.01, degree=3, gamma=0.01, kernel=rbf, score=0.6343612334801763, total=   0.0s\n",
      "[CV] C=0.1, degree=2, gamma=0.001, kernel=linear .....................\n",
      "[CV]  C=0.1, degree=2, gamma=0.001, kernel=linear, score=0.9385964912280702, total=   0.1s\n",
      "[CV] C=0.1, degree=2, gamma=0.001, kernel=linear .....................\n",
      "[CV]  C=0.1, degree=2, gamma=0.001, kernel=linear, score=0.947136563876652, total=   0.2s\n",
      "[CV] C=1.0, degree=3, gamma=0.001, kernel=rbf ........................\n",
      "[CV]  C=1.0, degree=3, gamma=0.001, kernel=rbf, score=0.9074889867841409, total=   0.0s\n",
      "[CV] C=1.0, degree=3, gamma=0.005, kernel=linear .....................\n"
     ]
    },
    {
     "name": "stderr",
     "output_type": "stream",
     "text": [
      "[Parallel(n_jobs=4)]: Done 259 tasks      | elapsed:  8.1min\n"
     ]
    },
    {
     "name": "stdout",
     "output_type": "stream",
     "text": [
      "[CV]  C=1.0, degree=3, gamma=0.005, kernel=linear, score=0.9517543859649122, total=   0.4s\n",
      "[CV] C=1.0, degree=3, gamma=0.005, kernel=linear .....................\n",
      "[CV]  C=1.0, degree=3, gamma=0.005, kernel=linear, score=0.9559471365638766, total=   1.5s\n",
      "[CV] C=1.0, degree=3, gamma=0.005, kernel=poly .......................\n",
      "[CV]  C=0.1, degree=3, gamma=0.005, kernel=poly, score=0.9429824561403509, total= 3.1min\n",
      "[CV] C=0.1, degree=3, gamma=0.005, kernel=poly .......................\n",
      "[CV]  C=1.0, degree=3, gamma=0.001, kernel=poly, score=0.947136563876652, total=  44.2s\n",
      "[CV] C=1.0, degree=3, gamma=0.001, kernel=rbf ........................\n",
      "[CV]  C=1.0, degree=3, gamma=0.001, kernel=rbf, score=0.9254385964912281, total=   0.0s\n",
      "[CV] C=1.0, degree=3, gamma=0.005, kernel=poly .......................\n",
      "[CV]  C=0.1, degree=3, gamma=0.01, kernel=poly, score=0.9429824561403509, total= 3.1min\n",
      "[CV] C=0.1, degree=3, gamma=0.01, kernel=poly ........................\n",
      "[CV]  C=0.1, degree=3, gamma=0.005, kernel=poly, score=0.9427312775330396, total=  54.1s\n",
      "[CV] C=0.1, degree=3, gamma=0.005, kernel=rbf ........................\n",
      "[CV]  C=0.1, degree=3, gamma=0.005, kernel=rbf, score=0.631578947368421, total=   0.0s\n",
      "[CV] C=0.1, degree=3, gamma=0.005, kernel=rbf ........................\n",
      "[CV]  C=0.1, degree=3, gamma=0.005, kernel=rbf, score=0.6343612334801763, total=   0.0s\n",
      "[CV] C=1.0, degree=3, gamma=0.005, kernel=rbf ........................\n",
      "[CV]  C=1.0, degree=3, gamma=0.005, kernel=rbf, score=0.6447368421052632, total=   0.0s\n",
      "[CV] C=1.0, degree=3, gamma=0.005, kernel=rbf ........................\n",
      "[CV]  C=1.0, degree=3, gamma=0.005, kernel=rbf, score=0.6475770925110133, total=   0.0s\n",
      "[CV] C=1.0, degree=3, gamma=0.01, kernel=linear ......................\n",
      "[CV]  C=1.0, degree=3, gamma=0.01, kernel=linear, score=0.9517543859649122, total=   0.4s\n",
      "[CV] C=1.0, degree=3, gamma=0.01, kernel=linear ......................\n",
      "[CV]  C=1.0, degree=3, gamma=0.01, kernel=linear, score=0.9559471365638766, total=   1.6s\n",
      "[CV] C=1.0, degree=3, gamma=0.01, kernel=poly ........................\n",
      "[CV]  C=1.0, degree=3, gamma=0.005, kernel=poly, score=0.9427312775330396, total=  52.6s\n",
      "[CV] C=1.0, degree=3, gamma=0.01, kernel=poly ........................\n",
      "[CV]  C=0.1, degree=3, gamma=0.01, kernel=poly, score=0.9427312775330396, total=  52.8s\n",
      "[CV] C=0.1, degree=3, gamma=0.01, kernel=rbf .........................\n",
      "[CV]  C=0.1, degree=3, gamma=0.01, kernel=rbf, score=0.631578947368421, total=   0.0s\n",
      "[CV] C=0.1, degree=3, gamma=0.01, kernel=rbf .........................\n",
      "[CV]  C=0.1, degree=3, gamma=0.01, kernel=rbf, score=0.6343612334801763, total=   0.0s\n",
      "[CV] C=1.0, degree=2, gamma=0.001, kernel=linear .....................\n",
      "[CV]  C=1.0, degree=2, gamma=0.001, kernel=linear, score=0.9517543859649122, total=   0.4s\n",
      "[CV] C=1.0, degree=3, gamma=0.01, kernel=rbf .........................\n",
      "[CV]  C=1.0, degree=3, gamma=0.01, kernel=rbf, score=0.631578947368421, total=   0.0s\n",
      "[CV] C=1.0, degree=3, gamma=0.01, kernel=rbf .........................\n",
      "[CV]  C=1.0, degree=3, gamma=0.01, kernel=rbf, score=0.6343612334801763, total=   0.0s\n",
      "[CV]  C=1.0, degree=3, gamma=0.01, kernel=poly, score=0.9427312775330396, total=  41.9s\n",
      "[CV]  C=1.0, degree=3, gamma=0.005, kernel=poly, score=0.9429824561403509, total= 2.5min\n",
      "[CV]  C=1.0, degree=3, gamma=0.01, kernel=poly, score=0.9429824561403509, total= 1.9min\n"
     ]
    },
    {
     "name": "stderr",
     "output_type": "stream",
     "text": [
      "[Parallel(n_jobs=4)]: Done 288 out of 288 | elapsed: 11.0min finished\n"
     ]
    },
    {
     "name": "stdout",
     "output_type": "stream",
     "text": [
      "CPU times: user 5.7 s, sys: 264 ms, total: 5.97 s\n",
      "Wall time: 11min 7s\n"
     ]
    }
   ],
   "source": [
    "%%time\n",
    "gs_ = GridSearchCV(svm.SVC(), clfs_hp_dict['svm'], cv=cv, n_jobs=n_jobs, verbose=verbose)\n",
    "gs_.fit(X, y)"
   ]
  },
  {
   "cell_type": "code",
   "execution_count": 159,
   "metadata": {},
   "outputs": [
    {
     "data": {
      "text/plain": [
       "{'C': 0.01, 'degree': 2, 'gamma': 0.01, 'kernel': 'poly'}"
      ]
     },
     "execution_count": 159,
     "metadata": {},
     "output_type": "execute_result"
    }
   ],
   "source": [
    "gs_.best_params_"
   ]
  },
  {
   "cell_type": "code",
   "execution_count": 143,
   "metadata": {
    "collapsed": true
   },
   "outputs": [],
   "source": [
    "?svm.SVC"
   ]
  }
 ],
 "metadata": {
  "kernelspec": {
   "display_name": "Python 3",
   "language": "python",
   "name": "python3"
  },
  "language_info": {
   "codemirror_mode": {
    "name": "ipython",
    "version": 3
   },
   "file_extension": ".py",
   "mimetype": "text/x-python",
   "name": "python",
   "nbconvert_exporter": "python",
   "pygments_lexer": "ipython3",
   "version": "3.6.3"
  }
 },
 "nbformat": 4,
 "nbformat_minor": 2
}
