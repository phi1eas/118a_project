{
 "cells": [
  {
   "cell_type": "code",
   "execution_count": 2,
   "metadata": {
    "code_folding": [
     0
    ],
    "collapsed": true
   },
   "outputs": [],
   "source": [
    "### Imports\n",
    "\n",
    "import copy\n",
    "import pickle\n",
    "import numpy as np\n",
    "import matplotlib.pyplot as plt\n",
    "import seaborn as sns\n",
    "import pandas as pd\n",
    "import itertools as it\n",
    "import string\n",
    "from sklearn import datasets\n",
    "from sklearn import svm\n",
    "from sklearn import tree\n",
    "from sklearn import ensemble\n",
    "from sklearn import neighbors\n",
    "from sklearn import neural_network\n",
    "from sklearn import model_selection\n",
    "from sklearn import linear_model\n",
    "from sklearn.model_selection import GridSearchCV\n",
    "from sklearn.model_selection import RandomizedSearchCV\n",
    "from sklearn.model_selection import cross_val_score\n",
    "%config InlineBackend.figure_format = 'retina'"
   ]
  },
  {
   "cell_type": "code",
   "execution_count": 37,
   "metadata": {
    "code_folding": [
     0
    ],
    "collapsed": true
   },
   "outputs": [],
   "source": [
    "### Config\n",
    "\n",
    "TRAIN_SIZE     = 0.8\n",
    "MAX_DATA_SIZE  = 500\n",
    "RND_SEED       = 1\n",
    "FIGSIZE        = (14, 8)\n",
    "CLF_DICT       = {'logreg': linear_model.LogisticRegression(),\n",
    "                  'knn':    neighbors.KNeighborsClassifier(),\n",
    "                  'rf':     ensemble.RandomForestClassifier(),\n",
    "                  'svm':    svm.SVC()}"
   ]
  },
  {
   "cell_type": "code",
   "execution_count": 137,
   "metadata": {
    "code_folding": []
   },
   "outputs": [],
   "source": [
    "### Methods and classes\n",
    "\n",
    "def size_info(data_dict):\n",
    "    ### Size info\n",
    "    print(\"Data sizes:\")\n",
    "    for data_name, data_tuple in data_dict.items():\n",
    "        print(\"\\n{}:\\nX: {}\\ny: {}\".format(data_name, data_tuple[0].shape, data_tuple[1].shape))\n",
    "\n",
    "def shuffle_data(data_dict, seed):\n",
    "    shuffled_data_dict = dict()\n",
    "    for data_name, data_tuple in data_dict.items():\n",
    "        X = data_tuple[0]\n",
    "        y = data_tuple[1]\n",
    "        \n",
    "        X_and_y = pd.concat([X, y], axis=1)\n",
    "\n",
    "        X_and_y_shuffled = X_and_y.sample(frac=1, random_state=np.random.RandomState(seed=seed))\n",
    "        \n",
    "        X_shuffled = X_and_y_shuffled.iloc[:, :-1]\n",
    "        y_shuffled = X_and_y_shuffled.iloc[:, -1]\n",
    "    \n",
    "        shuffled_data_dict[data_name] = (X_shuffled, y_shuffled)\n",
    "    \n",
    "    return(shuffled_data_dict)\n",
    "\n",
    "def train_test_split_data(all_data_dict, train_size, shuffle=True, random_seed=None):\n",
    "    \"\"\"\n",
    "    Output example for shuffled_data_dict = {'wdbc': (wdbc_X, wdbc_y)}:\n",
    "    out = ({'wdbc': (wdbc_X_train, wdbc_y_train)}, {'wdbc': (wdbc_X_test, wdbc_y_test)})\n",
    "    \"\"\"\n",
    "    \n",
    "    train_data_dict = dict()\n",
    "    test_data_dict  = dict()\n",
    "    for data_name, data_X_y_tuple in all_data_dict.items():\n",
    "        X = data_X_y_tuple[0]\n",
    "        y = data_X_y_tuple[1]\n",
    "        \n",
    "        X_tr, X_te, y_tr, y_te = model_selection.train_test_split(\n",
    "            X, y,\n",
    "            train_size=train_size,\n",
    "            random_state=np.random.RandomState(seed=random_seed),\n",
    "            shuffle=shuffle)\n",
    "        train_data_dict[data_name] = (X_tr, y_tr)\n",
    "        test_data_dict[data_name]  = (X_te, y_te)\n",
    "        \n",
    "    return(train_data_dict, test_data_dict)\n",
    "\n",
    "def avg_sd_across_shuffles(shuffles_scores_list):\n",
    "    n_shuffles = len(shuffles_scores_list)\n",
    "\n",
    "    shuffles_avg_scores = dict()\n",
    "    shuffles_sd_scores  = dict()\n",
    "    for data_name in shuffles_scores_list[0].keys():\n",
    "        shuffles_avg_scores[data_name] = dict()\n",
    "        shuffles_sd_scores[data_name]  = dict()\n",
    "        for clf_name in shuffles_scores_list[0][data_name].keys():\n",
    "            shuffles_scores = list()\n",
    "            for shuffle_i in np.arange(n_shuffles):\n",
    "                shuffles_scores.append(shuffles_scores_list[shuffle_i][data_name][clf_name])\n",
    "\n",
    "            scores_mean = np.mean(shuffles_scores)\n",
    "            scores_sd   = np.std(shuffles_scores)\n",
    "\n",
    "            shuffles_avg_scores[data_name][clf_name] = scores_mean\n",
    "            shuffles_sd_scores[data_name][clf_name]  = scores_sd\n",
    "            \n",
    "    return(shuffles_avg_scores, shuffles_sd_scores)\n",
    "\n",
    "def avg_clf_scores_across_data(splits_shuffles_avg_scores_dict):\n",
    "    \"\"\"\n",
    "    Mean across data\n",
    "      out: {0.2: {'knn': 0.9}}\n",
    "      for splits_shuffles_avg_train_scores_dict and splits_shuffles_avg_test_scores_dict\n",
    "    \"\"\"\n",
    "    \n",
    "    avg_scores_clf_dict = dict()\n",
    "\n",
    "    for train_split, data_dict in splits_shuffles_avg_scores_dict.items():\n",
    "        across_data_scores_clf_dict = dict()\n",
    "\n",
    "        # Restructure data such that we have lists of data_scores for each clf\n",
    "        for data_name, clf_dict in data_dict.items():\n",
    "            for clf_name, score in clf_dict.items():\n",
    "                if clf_name not in across_data_scores_clf_dict:\n",
    "                    across_data_scores_clf_dict[clf_name] = [score]\n",
    "                else:\n",
    "                    across_data_scores_clf_dict[clf_name].append(score)\n",
    "\n",
    "        # Now average across data for each clf\n",
    "        across_data_avg_score_clf_dict = dict()\n",
    "        for clf_name, across_data_scores in across_data_scores_clf_dict.items():\n",
    "            across_data_avg_score_clf_dict[clf_name] = np.mean(across_data_scores_clf_dict[clf_name])\n",
    "\n",
    "        avg_scores_clf_dict[train_split] = across_data_avg_score_clf_dict\n",
    "    return(avg_scores_clf_dict)\n",
    "\n",
    "\n",
    "def init_clf(clf_name, clf_dict=CLF_DICT):\n",
    "    return(copy.deepcopy(clf_dict[clf_name]))\n",
    "\n",
    "class BigLoop:\n",
    "    data_dict = None\n",
    "    train_splits = None\n",
    "    n_shuffles = None\n",
    "    cv = None\n",
    "    clf_param_dict = None\n",
    "    method = None\n",
    "    n_jobs = None\n",
    "    verbose = None\n",
    "    knn_fillup = No\n",
    "    \n",
    "    # Results\n",
    "    splits_shuffles_train_scores_dict = None\n",
    "    splits_shuffles_test_scores_dict  = None\n",
    "    magicml_dict                      = None\n",
    "    \n",
    "    def __init__(self, data_dict, clf_param_dict, train_splits, n_shuffles, cv, method='grid_search', n_jobs=None, verbose=False):\n",
    "        self.data_dict = data_dict\n",
    "        self.clf_param_dict = clf_param_dict\n",
    "        self.train_splits = train_splits\n",
    "        self.n_shuffles = n_shuffles\n",
    "        self.cv = cv\n",
    "        self.method = method\n",
    "        self.n_jobs = n_jobs\n",
    "        self.verbose = verbose\n",
    "        \n",
    "    @classmethod\n",
    "    def load(cls, filename):\n",
    "        with open(filename, 'rb') as f:\n",
    "            return pickle.load(f)\n",
    "    \n",
    "    def save(self, filename):\n",
    "        with open(filename, 'wb') as f:\n",
    "            pickle.dump(self, f, pickle.HIGHEST_PROTOCOL)\n",
    "            \n",
    "    def plot_avg_scores_by_hyperparam_data_clf(self, clf_name, x_param_name, plot_train_split):\n",
    "        \"\"\"\n",
    "        Computes average score across random shuffles for a clf by a hyperparam and plots score by hyperparam.\n",
    "        \"\"\"\n",
    "\n",
    "        scores_mean_df = pd.DataFrame()\n",
    "        for magic_ml_shuffle in self.magicml_dict[plot_train_split]:\n",
    "            scores_mean_df = pd.concat([scores_mean_df, magic_ml_shuffle.scores_df[clf_name]['scores_mean']], axis=1)\n",
    "\n",
    "        scores_mean = scores_mean_df.mean(axis=1)\n",
    "        mean_plot_df = pd.concat([self.magicml_dict[plot_train_split][0].scores_df[clf_name][x_param_name],\n",
    "                                  self.magicml_dict[plot_train_split][0].scores_df[clf_name]['data_name'],\n",
    "                                  scores_mean], axis=1)\n",
    "        mean_plot_df.columns = [x_param_name, 'data_name', 'scores_mean']\n",
    "\n",
    "        # Plot\n",
    "        plt.figure(figsize=FIGSIZE)\n",
    "        sns_plot = sns.pointplot(x_param_name, 'scores_mean', data=mean_plot_df, hue='data_name', markers='.')\n",
    "        return(sns_plot)\n",
    "        \n",
    "    def run(self):\n",
    "        self.splits_shuffles_train_scores_dict = dict()\n",
    "        self.splits_shuffles_test_scores_dict  = dict()\n",
    "        \n",
    "        self.magicml_dict = dict()\n",
    "        \n",
    "        loop_iter  = 0\n",
    "        loop_iters = len(TRAIN_SPLITS)*N_SHUFFLES\n",
    "        for train_split in self.train_splits:\n",
    "            self.magicml_dict[train_split] = list()\n",
    "            \n",
    "            shuffles_train_scores = list() # [{'wdbc': {'knn': (tr_acc)}} for each rnd_shuffle]\n",
    "            shuffles_test_scores = list()  # [{'wdbc': {'knn': (te_acc)}} for each rnd_shuffle]\n",
    "            for shuffle_i in np.arange(self.n_shuffles):\n",
    "                loop_iter = loop_iter + 1\n",
    "                print(\"\\n-----------------\")\n",
    "                print(\"Loop iter {}/{}\".format(loop_iter, loop_iters))\n",
    "\n",
    "                shuffled_data_dict_i = shuffle_data(self.data_dict, seed=None)\n",
    "                train_data_dict, test_data_dict = train_test_split_data(shuffled_data_dict_i,\n",
    "                                                                        train_split,\n",
    "                                                                        shuffle=True,\n",
    "                                                                        random_seed=None)\n",
    "                \n",
    "                rnd_split_magic = Magic_ML(self.clf_param_dict, cv=self.cv, n_jobs=self.n_jobs, verbose=self.verbose, method=self.method) # CHANGE!\n",
    "                \n",
    "                print(rnd_split_magic.clf_param_dict) # temp\n",
    "                \n",
    "                rnd_split_magic.fit(train_data_dict)\n",
    "                \n",
    "                self.magicml_dict[train_split].append(rnd_split_magic)\n",
    "\n",
    "                rnd_split_train_scores = rnd_split_magic.score(train_data_dict) # {'wdbc': {'knn': 0.8}}\n",
    "                rnd_split_test_scores  = rnd_split_magic.score(test_data_dict)  # {'wdbc': {'knn': 0.8}}\n",
    "\n",
    "                shuffles_train_scores.append(rnd_split_train_scores)\n",
    "                shuffles_test_scores.append(rnd_split_test_scores)\n",
    "\n",
    "            self.splits_shuffles_train_scores_dict[train_split] = shuffles_train_scores\n",
    "            self.splits_shuffles_test_scores_dict[train_split]  = shuffles_test_scores\n",
    "\n",
    "class Magic_ML:\n",
    "    \n",
    "    \"\"\"\n",
    "    Finds hyperparams for set of datasets and set of classifiers with specified hyperparam grids\n",
    "    \"\"\"\n",
    "    \n",
    "    clf_param_dict  = None\n",
    "    cv              = None\n",
    "    n_jobs          = None\n",
    "    verbose         = None\n",
    "    method          = None\n",
    "    \n",
    "    # fit\n",
    "    train_data_dict       = None\n",
    "    \n",
    "    # Randomized Search\n",
    "    n_iter = None\n",
    "    \n",
    "    # Results\n",
    "    searcher_obj_dict = None\n",
    "    best_params_dict  = None\n",
    "    scores_df         = None # Used for plotting\n",
    "    \n",
    "    # States\n",
    "    is_fit            = False\n",
    "    \n",
    "    def __init__(self, clf_param_dict, cv=5, n_jobs=4, verbose=False, method='grid_search'):\n",
    "        self.clf_param_dict = clf_param_dict\n",
    "        self.cv             = cv\n",
    "        self.n_jobs         = n_jobs\n",
    "        self.verbose        = verbose\n",
    "        self.method         = method\n",
    "        \n",
    "    \n",
    "    @classmethod\n",
    "    def load(cls, filename):\n",
    "        with open(filename, 'rb') as f:\n",
    "            return pickle.load(f)\n",
    "    \n",
    "    def save(self, filename):\n",
    "        if not self.is_fit:\n",
    "            raise Exception('You probably want to fit before you save!')\n",
    "            \n",
    "        with open(filename, 'wb') as f:\n",
    "            pickle.dump(self, f, pickle.HIGHEST_PROTOCOL)\n",
    "    \n",
    "    def get_plot_by_clf(self, clf_name, x_param_name, figsize=FIGSIZE):\n",
    "        clf_scores_df = self.scores_df[clf_name]\n",
    "        \n",
    "        plt.figure(figsize=figsize)\n",
    "        sns_plot = sns.pointplot(x_param_name, 'scores_mean', data=clf_scores_df, hue='data_name', markers='.')\n",
    "        return(sns_plot)\n",
    "    \n",
    "    def create_scores_df(self):\n",
    "        # Prepare score df dict\n",
    "        clf_scores_df_dict = dict()\n",
    "        for clf_name, param_dict in self.clf_param_dict.items():\n",
    "            columns = ['data_name']\n",
    "            columns.extend(list(self.clf_param_dict[clf_name].keys()))\n",
    "            columns.extend(['scores_mean', 'scores_sd'])\n",
    "\n",
    "            clf_scores_df_dict[clf_name] = pd.DataFrame(columns=columns)\n",
    "\n",
    "        for data_name, clf_searcher_obj_dict in self.searcher_obj_dict.items():\n",
    "            for clf_name, searcher_obj in clf_searcher_obj_dict.items():\n",
    "                grid_scores = searcher_obj.skl_search_obj.grid_scores_\n",
    "\n",
    "                for grid_score in grid_scores:\n",
    "                    param_comb_dict = grid_score[0]\n",
    "                    scores_mean = np.mean(grid_score[2])\n",
    "                    scores_sd = np.std(grid_score[2])\n",
    "\n",
    "                    row = {'data_name': data_name,\n",
    "                           'scores_mean': scores_mean,\n",
    "                           'scores_sd': scores_sd}\n",
    "\n",
    "                    for param_name, param_val in param_comb_dict.items():\n",
    "                        row[param_name] = param_val\n",
    "\n",
    "                    clf_scores_df_dict[clf_name] = clf_scores_df_dict[clf_name].append(row, ignore_index = True)\n",
    "        self.scores_df = clf_scores_df_dict\n",
    "    \n",
    "    def score(self, data_dict):\n",
    "        \"\"\"\n",
    "        Output example for {'wdbc': {wdbc_X_te, wdbc_y_te)}:\n",
    "        out = {'wdbc': {'knn': 0.8}}\n",
    "\n",
    "        data_dict abstracts over X, y\n",
    "        Returns best clf's score for each combination of dataset and clf\n",
    "        \"\"\"\n",
    "\n",
    "        if not self.is_fit:\n",
    "            raise Exception('You need to fit me first!')\n",
    "\n",
    "        score_dict = dict()\n",
    "        for data_name, data_X_y_tuple in data_dict.items():\n",
    "            X = data_X_y_tuple[0]\n",
    "            y = data_X_y_tuple[1]\n",
    "\n",
    "            score_dict[data_name] = dict()\n",
    "            for clf_name, clf_searcher_obj in self.searcher_obj_dict[data_name].items():\n",
    "                skl_search_obj = clf_searcher_obj.skl_search_obj\n",
    "                \n",
    "                score = skl_search_obj.score(X, y)\n",
    "                score_dict[data_name][clf_name] = score\n",
    "                \n",
    "        return(score_dict)\n",
    "\n",
    "    def fit(self, train_data_dict, n_iter=None):\n",
    "        self.train_data_dict = train_data_dict\n",
    "\n",
    "        if self.method == 'randomized_search' and n_iter is None:\n",
    "            raise Exception('You need to specify n_iter for randomized search')\n",
    "        self.n_iter = n_iter\n",
    "\n",
    "        searcher_obj_dict = dict()\n",
    "        best_params_dict = dict()\n",
    "        for data_name, data_tuple in self.train_data_dict.items():\n",
    "            print(\"Fitting training dataset: {} ...\".format(data_name))\n",
    "\n",
    "            X = data_tuple[0]\n",
    "            y = data_tuple[1]\n",
    "\n",
    "            searcher_obj_dict[data_name] = dict()\n",
    "            best_params_dict[data_name] = dict()\n",
    "            for clf_name, param_dict in self.clf_param_dict.items():\n",
    "                print(\"  Doing {} magic ...\".format(clf_name))\n",
    "                searcher_obj = ParamSearcher(X, y, clf_name, self.clf_param_dict[clf_name], self.method, self.n_jobs, self.cv, self.verbose)\n",
    "                searcher_obj.search()\n",
    "                searcher_obj_dict[data_name][clf_name] = searcher_obj\n",
    "\n",
    "                best_params_dict[data_name][clf_name] = searcher_obj.best_params_\n",
    "        self.searcher_obj_dict = searcher_obj_dict\n",
    "        self.best_params_dict = best_params_dict\n",
    "\n",
    "        self.create_scores_df()\n",
    "        self.is_fit = True\n",
    "\n",
    "class ParamSearcher:\n",
    "    \n",
    "    \"\"\"\n",
    "    Finds hyperparams for one dataset and one classifier\n",
    "    \"\"\"\n",
    "    \n",
    "    X = None\n",
    "    y = None\n",
    "    clf_name = None\n",
    "    param_dict = None\n",
    "    method = None\n",
    "    verbose = None\n",
    "    n_jobs = None\n",
    "    cv = None\n",
    "    \n",
    "    # Randomized Search\n",
    "    n_iter = None\n",
    "    \n",
    "    # Results\n",
    "    skl_search_obj = None\n",
    "    best_params_ = None\n",
    "    \n",
    "    def __init__(self, X, y, clf_name, param_dict, method='grid_search', n_jobs=4, cv=5, verbose=False):\n",
    "        self.X = X\n",
    "        self.y = y\n",
    "        self.clf_name = clf_name\n",
    "        self.param_dict = param_dict\n",
    "        self.method = method\n",
    "        self.n_jobs = n_jobs\n",
    "        self.cv = cv\n",
    "        self.verbose = verbose\n",
    "        \n",
    "    def check_params(self):\n",
    "        # Check for exceeded hard limits of some params\n",
    "        if self.clf_name == 'knn':\n",
    "            if 'n_neighbors' in self.param_dict:\n",
    "                max_n_neighbors = int(np.floor(self.X.shape[0]/self.cv)-1)\n",
    "                if np.any(self.param_dict['n_neighbors'] > max_n_neighbors):\n",
    "                    print('ParamSearcher: knn: some n_neighbors > n_samples/cv-1. Restricting range to n_samples/cv-1.')\n",
    "                    self.param_dict['n_neighbors'][self.param_dict['n_neighbors'] > max_n_neighbors] = max_n_neighbors\n",
    "                    \n",
    "                    # Remove duplicates\n",
    "                    self.param_dict['n_neighbors'] = np.unique(self.param_dict['n_neighbors'])\n",
    "        elif self.clf_name == 'rf':\n",
    "            if 'max_features' in self.param_dict:\n",
    "                if np.any(self.param_dict['max_features'] > self.X.shape[1]):\n",
    "                    print('ParamSearcher: rf: some max_features > n_features. Restricting range to max_features.')\n",
    "                    self.param_dict['max_features'][self.param_dict['max_features'] > self.X.shape[1]] = self.X.shape[1]\n",
    "                    \n",
    "                    # Remove duplicates\n",
    "                    self.param_dict['max_features'] = np.unique(self.param_dict['max_features'])\n",
    "                    \n",
    "                    \n",
    "    def search(self, n_iter=None):\n",
    "        self.check_params()\n",
    "        \n",
    "        if self.method == 'grid_search':\n",
    "            skl_search_obj = GridSearchCV(estimator  = init_clf(self.clf_name),\n",
    "                                          param_grid = self.param_dict,\n",
    "                                          n_jobs     = self.n_jobs,\n",
    "                                          cv         = self.cv,\n",
    "                                          verbose    = self.verbose)\n",
    "        elif self.method == 'randomized_search':\n",
    "            if n_iter is None:\n",
    "                raise Exception('You need to specify n_iter for randomized search')\n",
    "            self.n_iter = n_iter\n",
    "            \n",
    "            skl_search_obj = RandomizedSearchCV(estimator           = init_clf(self.clf_name),\n",
    "                                                 param_distributions = self.param_dict,\n",
    "                                                 n_iter              = n_iter,\n",
    "                                                 n_jobs              = self.n_jobs,\n",
    "                                                 cv                  = self.cv,\n",
    "                                                 verbose             = self.verbose)\n",
    "        skl_search_obj.fit(self.X, self.y)\n",
    "        self.skl_search_obj = skl_search_obj\n",
    "        self.best_params_ = skl_search_obj.best_params_"
   ]
  },
  {
   "cell_type": "code",
   "execution_count": 5,
   "metadata": {
    "code_folding": [
     0
    ],
    "collapsed": true
   },
   "outputs": [],
   "source": [
    "### Load data\n",
    "## iris\n",
    "iris_X = pd.DataFrame(datasets.load_iris()['data'])\n",
    "iris_y = pd.Series(datasets.load_iris()['target'])\n",
    "\n",
    "\n",
    "## wdbc\n",
    "wdbc_X_and_y = pd.read_csv('data/wdbc.data', header = None).iloc[:, 1:] # drop ID, then first col = y\n",
    "wdbc_y = wdbc_X_and_y.iloc[:, 0]\n",
    "wdbc_X = wdbc_X_and_y.iloc[:, 1:]\n",
    "\n",
    "wdbc_y = wdbc_y.map({'B': -1, 'M': 1}) # Transform y from (B, M) to (-1, 1)\n",
    "\n",
    "\n",
    "## income\n",
    "# Load, prepare, and shuffle adult income data\n",
    "income_X_and_y = pd.read_csv('data/adult.data', header=None)\n",
    "income_X_and_y.columns = ['age', 'workclass', 'fnlwgt', 'education', 'education-num',\n",
    "                         'marital-status', 'occupation', 'relationship',\n",
    "                         'race', 'sex', 'capital-gain', 'capital-loss', 'hours-per-week',\n",
    "                         'native-country', 'income']\n",
    "\n",
    "# one-hot encode categorical variables\n",
    "income_categorical_vars = ['workclass', 'education', 'marital-status', 'occupation',\n",
    "                           'relationship', 'race', 'sex', 'native-country']\n",
    "income_X_and_y_onehot = pd.DataFrame()\n",
    "for var in income_categorical_vars:\n",
    "    dummy_coded_var_df = pd.get_dummies(income_X_and_y[var], prefix=var)\n",
    "    income_X_and_y_onehot = pd.concat([income_X_and_y_onehot, dummy_coded_var_df], axis=1)\n",
    "\n",
    "# add remaining columns to one-hot encoded df\n",
    "income_X_and_y = pd.concat([income_X_and_y_onehot,\n",
    "                            income_X_and_y.loc[:, income_X_and_y.columns[\n",
    "                                np.logical_not(np.in1d(income_X_and_y.columns, income_categorical_vars))]]],\n",
    "                           axis=1)\n",
    "\n",
    "income_y = income_X_and_y.loc[:, 'income']\n",
    "income_X = income_X_and_y.drop('income', axis=1)\n",
    "\n",
    "# Transform y from (<=50K, >50K) to (-1, 1)\n",
    "income_y = income_y.map({' <=50K': -1, ' >50K': 1})\n",
    "\n",
    "\n",
    "## Letter\n",
    "letter_X_and_y = pd.read_csv('data/letter.data', header=None)\n",
    "letter_X = letter_X_and_y.iloc[:, 1:]\n",
    "letter_y = letter_X_and_y.iloc[:, 0]\n",
    "\n",
    "# Transform y from A:M -> -1 and N:Z -> 1\n",
    "def alph_to_cat(letter):\n",
    "    if str.upper(letter) in list(string.ascii_uppercase[:13]):\n",
    "        return(1)\n",
    "    elif str.upper(letter) in list(string.ascii_uppercase[13:]):\n",
    "        return(-1)\n",
    "    \n",
    "letter_y = letter_y.map(alph_to_cat)\n",
    "\n",
    "## covtype\n",
    "covtype_X_and_y = pd.read_csv('data/covtype.data')\n",
    "covtype_X = covtype_X_and_y.iloc[:, :-1]\n",
    "covtype_y = covtype_X_and_y.iloc[:, -1]\n",
    "\n",
    "covtype_y = covtype_y.map({7:1}).fillna(0)\n",
    "\n",
    "\n",
    "\n",
    "all_data_dict = {'wdbc':      (wdbc_X, wdbc_y),\n",
    "                 'income':    (income_X, income_y),\n",
    "                 'iris':      (iris_X, iris_y),\n",
    "                 'covtype':   (covtype_X, covtype_y),\n",
    "                 'letter':    (letter_X, letter_y)}\n",
    "\n",
    "# size_info(all_data_dict)"
   ]
  },
  {
   "cell_type": "code",
   "execution_count": 22,
   "metadata": {
    "code_folding": [
     0
    ]
   },
   "outputs": [
    {
     "name": "stdout",
     "output_type": "stream",
     "text": [
      "Data sizes:\n",
      "\n",
      "wdbc:\n",
      "X: (500, 30)\n",
      "y: (500,)\n",
      "\n",
      "income:\n",
      "X: (500, 108)\n",
      "y: (500,)\n",
      "\n",
      "iris:\n",
      "X: (150, 4)\n",
      "y: (150,)\n",
      "\n",
      "covtype:\n",
      "X: (500, 54)\n",
      "y: (500,)\n",
      "\n",
      "letter:\n",
      "X: (500, 16)\n",
      "y: (500,)\n"
     ]
    }
   ],
   "source": [
    "### Limit dataset sizes\n",
    "\n",
    "# Shuffle\n",
    "shuffled_data_dict = shuffle_data(all_data_dict, seed=RND_SEED)\n",
    "\n",
    "lim_data_dict = dict()\n",
    "for data_name, data_tuple in shuffled_data_dict.items():\n",
    "    X = data_tuple[0]\n",
    "    y = data_tuple[1]\n",
    "    \n",
    "    assert X.shape[0] == y.shape[0]\n",
    "    \n",
    "    if y.shape[0] > MAX_DATA_SIZE:\n",
    "        X = X.sample(MAX_DATA_SIZE, random_state=RND_SEED)\n",
    "        y = y.sample(MAX_DATA_SIZE, random_state=RND_SEED)\n",
    "\n",
    "    lim_data_dict[data_name] = (X, y)\n",
    "\n",
    "size_info(lim_data_dict)"
   ]
  },
  {
   "cell_type": "markdown",
   "metadata": {},
   "source": [
    "# Run big loop"
   ]
  },
  {
   "cell_type": "code",
   "execution_count": 138,
   "metadata": {
    "code_folding": []
   },
   "outputs": [
    {
     "name": "stdout",
     "output_type": "stream",
     "text": [
      "\n",
      "-----------------\n",
      "Loop iter 1/3\n",
      "{'knn': {'n_neighbors': array([ 1,  2,  3,  4,  5,  6,  7,  8,  9, 10, 11, 12, 13, 14, 15, 16, 17,\n",
      "       18, 19, 20, 21, 22, 23, 24, 25, 26, 27, 28, 29, 30, 31, 32, 33, 34,\n",
      "       35, 36, 37, 38, 39, 40, 41, 42, 43, 44, 45, 46, 47, 48, 49, 50])}, 'rf': {'n_estimators': array([256]), 'max_features': array([1, 2, 4, 6])}}\n",
      "Fitting training dataset: iris ...\n",
      "  Doing knn magic ...\n"
     ]
    },
    {
     "name": "stderr",
     "output_type": "stream",
     "text": [
      "/home/maxi/.anaconda3/lib/python3.6/site-packages/sklearn/model_selection/_split.py:2026: FutureWarning: From version 0.21, test_size will always complement train_size unless both are specified.\n",
      "  FutureWarning)\n"
     ]
    },
    {
     "name": "stdout",
     "output_type": "stream",
     "text": [
      "  Doing rf magic ...\n",
      "ParamSearcher: rf: some max_features > n_features. Restricting range to max_features.\n",
      "Fitting training dataset: wdbc ...\n",
      "  Doing knn magic ...\n",
      "  Doing rf magic ...\n"
     ]
    },
    {
     "name": "stderr",
     "output_type": "stream",
     "text": [
      "/home/maxi/.anaconda3/lib/python3.6/site-packages/sklearn/model_selection/_search.py:761: DeprecationWarning: The grid_scores_ attribute was deprecated in version 0.18 in favor of the more elaborate cv_results_ attribute. The grid_scores_ attribute will not be available from 0.20\n",
      "  DeprecationWarning)\n",
      "/home/maxi/.anaconda3/lib/python3.6/site-packages/sklearn/model_selection/_search.py:761: DeprecationWarning: The grid_scores_ attribute was deprecated in version 0.18 in favor of the more elaborate cv_results_ attribute. The grid_scores_ attribute will not be available from 0.20\n",
      "  DeprecationWarning)\n",
      "/home/maxi/.anaconda3/lib/python3.6/site-packages/sklearn/model_selection/_search.py:761: DeprecationWarning: The grid_scores_ attribute was deprecated in version 0.18 in favor of the more elaborate cv_results_ attribute. The grid_scores_ attribute will not be available from 0.20\n",
      "  DeprecationWarning)\n",
      "/home/maxi/.anaconda3/lib/python3.6/site-packages/sklearn/model_selection/_search.py:761: DeprecationWarning: The grid_scores_ attribute was deprecated in version 0.18 in favor of the more elaborate cv_results_ attribute. The grid_scores_ attribute will not be available from 0.20\n",
      "  DeprecationWarning)\n"
     ]
    },
    {
     "name": "stdout",
     "output_type": "stream",
     "text": [
      "\n",
      "-----------------\n",
      "Loop iter 2/3\n",
      "{'knn': {'n_neighbors': array([ 1,  2,  3,  4,  5,  6,  7,  8,  9, 10, 11, 12, 13, 14, 15, 16, 17,\n",
      "       18, 19, 20, 21, 22, 23, 24, 25, 26, 27, 28, 29, 30, 31, 32, 33, 34,\n",
      "       35, 36, 37, 38, 39, 40, 41, 42, 43, 44, 45, 46, 47, 48, 49, 50])}, 'rf': {'n_estimators': array([256]), 'max_features': array([1, 2, 4])}}\n",
      "Fitting training dataset: iris ...\n",
      "  Doing knn magic ...\n"
     ]
    },
    {
     "name": "stderr",
     "output_type": "stream",
     "text": [
      "/home/maxi/.anaconda3/lib/python3.6/site-packages/sklearn/model_selection/_split.py:2026: FutureWarning: From version 0.21, test_size will always complement train_size unless both are specified.\n",
      "  FutureWarning)\n"
     ]
    },
    {
     "name": "stdout",
     "output_type": "stream",
     "text": [
      "  Doing rf magic ...\n",
      "Fitting training dataset: wdbc ...\n",
      "  Doing knn magic ...\n",
      "  Doing rf magic ...\n"
     ]
    },
    {
     "name": "stderr",
     "output_type": "stream",
     "text": [
      "/home/maxi/.anaconda3/lib/python3.6/site-packages/sklearn/model_selection/_search.py:761: DeprecationWarning: The grid_scores_ attribute was deprecated in version 0.18 in favor of the more elaborate cv_results_ attribute. The grid_scores_ attribute will not be available from 0.20\n",
      "  DeprecationWarning)\n",
      "/home/maxi/.anaconda3/lib/python3.6/site-packages/sklearn/model_selection/_search.py:761: DeprecationWarning: The grid_scores_ attribute was deprecated in version 0.18 in favor of the more elaborate cv_results_ attribute. The grid_scores_ attribute will not be available from 0.20\n",
      "  DeprecationWarning)\n",
      "/home/maxi/.anaconda3/lib/python3.6/site-packages/sklearn/model_selection/_search.py:761: DeprecationWarning: The grid_scores_ attribute was deprecated in version 0.18 in favor of the more elaborate cv_results_ attribute. The grid_scores_ attribute will not be available from 0.20\n",
      "  DeprecationWarning)\n",
      "/home/maxi/.anaconda3/lib/python3.6/site-packages/sklearn/model_selection/_search.py:761: DeprecationWarning: The grid_scores_ attribute was deprecated in version 0.18 in favor of the more elaborate cv_results_ attribute. The grid_scores_ attribute will not be available from 0.20\n",
      "  DeprecationWarning)\n"
     ]
    },
    {
     "name": "stdout",
     "output_type": "stream",
     "text": [
      "\n",
      "-----------------\n",
      "Loop iter 3/3\n",
      "{'knn': {'n_neighbors': array([ 1,  2,  3,  4,  5,  6,  7,  8,  9, 10, 11, 12, 13, 14, 15, 16, 17,\n",
      "       18, 19, 20, 21, 22, 23, 24, 25, 26, 27, 28, 29, 30, 31, 32, 33, 34,\n",
      "       35, 36, 37, 38, 39, 40, 41, 42, 43, 44, 45, 46, 47, 48, 49, 50])}, 'rf': {'n_estimators': array([256]), 'max_features': array([1, 2, 4])}}\n",
      "Fitting training dataset: iris ...\n",
      "  Doing knn magic ...\n"
     ]
    },
    {
     "name": "stderr",
     "output_type": "stream",
     "text": [
      "/home/maxi/.anaconda3/lib/python3.6/site-packages/sklearn/model_selection/_split.py:2026: FutureWarning: From version 0.21, test_size will always complement train_size unless both are specified.\n",
      "  FutureWarning)\n"
     ]
    },
    {
     "name": "stdout",
     "output_type": "stream",
     "text": [
      "  Doing rf magic ...\n",
      "Fitting training dataset: wdbc ...\n",
      "  Doing knn magic ...\n",
      "  Doing rf magic ...\n"
     ]
    },
    {
     "name": "stderr",
     "output_type": "stream",
     "text": [
      "/home/maxi/.anaconda3/lib/python3.6/site-packages/sklearn/model_selection/_search.py:761: DeprecationWarning: The grid_scores_ attribute was deprecated in version 0.18 in favor of the more elaborate cv_results_ attribute. The grid_scores_ attribute will not be available from 0.20\n",
      "  DeprecationWarning)\n",
      "/home/maxi/.anaconda3/lib/python3.6/site-packages/sklearn/model_selection/_search.py:761: DeprecationWarning: The grid_scores_ attribute was deprecated in version 0.18 in favor of the more elaborate cv_results_ attribute. The grid_scores_ attribute will not be available from 0.20\n",
      "  DeprecationWarning)\n",
      "/home/maxi/.anaconda3/lib/python3.6/site-packages/sklearn/model_selection/_search.py:761: DeprecationWarning: The grid_scores_ attribute was deprecated in version 0.18 in favor of the more elaborate cv_results_ attribute. The grid_scores_ attribute will not be available from 0.20\n",
      "  DeprecationWarning)\n",
      "/home/maxi/.anaconda3/lib/python3.6/site-packages/sklearn/model_selection/_search.py:761: DeprecationWarning: The grid_scores_ attribute was deprecated in version 0.18 in favor of the more elaborate cv_results_ attribute. The grid_scores_ attribute will not be available from 0.20\n",
      "  DeprecationWarning)\n"
     ]
    }
   ],
   "source": [
    "test_data_dict = {'iris': lim_data_dict['iris'],\n",
    "                  'wdbc': lim_data_dict['wdbc']}\n",
    "\n",
    "CLF_PARAM_DICT = {'knn':    {'n_neighbors':  np.arange(1, 51)},\n",
    "                  'rf':     {'n_estimators': np.array([256]),\n",
    "                             'max_features': np.array([1, 2, 4, 6])}}\n",
    "TRAIN_SPLITS = [0.8]\n",
    "N_SHUFFLES = 3\n",
    "CV = 2\n",
    "\n",
    "bigloop = BigLoop(test_data_dict, CLF_PARAM_DICT, TRAIN_SPLITS, N_SHUFFLES, CV, method='grid_search')\n",
    "bigloop.run()"
   ]
  },
  {
   "cell_type": "code",
   "execution_count": 139,
   "metadata": {
    "collapsed": true
   },
   "outputs": [],
   "source": [
    "bigloop.save('test_bigloop.pkl')"
   ]
  },
  {
   "cell_type": "markdown",
   "metadata": {
    "heading_collapsed": true
   },
   "source": [
    "# Big loop post processing"
   ]
  },
  {
   "cell_type": "code",
   "execution_count": 7,
   "metadata": {
    "collapsed": true,
    "hidden": true
   },
   "outputs": [],
   "source": [
    "### Load results from saved big loop\n",
    "bigloop_loaded = BigLoop.load('test_bigloop.pkl')\n",
    "bigloop_train_scores = bigloop_loaded.splits_shuffles_train_scores_dict\n",
    "bigloop_test_scores  = bigloop_loaded.splits_shuffles_test_scores_dict"
   ]
  },
  {
   "cell_type": "markdown",
   "metadata": {
    "hidden": true
   },
   "source": [
    "## Average scores across shuffles and across datasets"
   ]
  },
  {
   "cell_type": "code",
   "execution_count": 8,
   "metadata": {
    "code_folding": [
     0
    ],
    "collapsed": true,
    "hidden": true
   },
   "outputs": [],
   "source": [
    "# Mean, SD across shuffles\n",
    "splits_shuffles_avg_train_scores_dict = dict()\n",
    "splits_shuffles_avg_test_scores_dict = dict()\n",
    "\n",
    "splits_shuffles_sd_train_scores_dict = dict()\n",
    "splits_shuffles_sd_test_scores_dict = dict()\n",
    "\n",
    "for train_split in bigloop_train_scores.keys():\n",
    "    split_shuffles_avg_train_scores_dict, split_shuffles_sd_train_scores_dict = \\\n",
    "        avg_sd_across_shuffles(bigloop_train_scores[train_split])\n",
    "    \n",
    "    split_shuffles_avg_test_scores_dict, split_shuffles_sd_test_scores_dict = \\\n",
    "        avg_sd_across_shuffles(bigloop_test_scores[train_split])\n",
    "        \n",
    "    splits_shuffles_avg_train_scores_dict[train_split] = split_shuffles_avg_train_scores_dict\n",
    "    splits_shuffles_avg_test_scores_dict[train_split]  = split_shuffles_avg_test_scores_dict\n",
    "    \n",
    "    splits_shuffles_sd_train_scores_dict[train_split]  = split_shuffles_sd_train_scores_dict\n",
    "    splits_shuffles_sd_test_scores_dict[train_split]    = split_shuffles_sd_test_scores_dict\n",
    "    "
   ]
  },
  {
   "cell_type": "code",
   "execution_count": 9,
   "metadata": {
    "hidden": true
   },
   "outputs": [
    {
     "data": {
      "text/plain": [
       "{0.2: {'iris': {'knn': 0.96666666666666667, 'rf': 1.0},\n",
       "  'wdbc': {'knn': 0.98499999999999999, 'rf': 1.0}},\n",
       " 0.5: {'iris': {'knn': 0.97333333333333338, 'rf': 1.0},\n",
       "  'wdbc': {'knn': 0.96399999999999997, 'rf': 1.0}},\n",
       " 0.8: {'iris': {'knn': 0.97083333333333333, 'rf': 1.0},\n",
       "  'wdbc': {'knn': 0.96124999999999994, 'rf': 1.0}}}"
      ]
     },
     "execution_count": 9,
     "metadata": {},
     "output_type": "execute_result"
    }
   ],
   "source": [
    "splits_shuffles_avg_train_scores_dict"
   ]
  },
  {
   "cell_type": "code",
   "execution_count": 10,
   "metadata": {
    "code_folding": [
     0
    ],
    "collapsed": true,
    "hidden": true
   },
   "outputs": [],
   "source": [
    "# Average across data\n",
    "avg_train_scores_by_split_clf_dict = avg_clf_scores_across_data(splits_shuffles_avg_train_scores_dict)\n",
    "avg_test_scores_by_split_clf_dict  = avg_clf_scores_across_data(splits_shuffles_avg_test_scores_dict)"
   ]
  },
  {
   "cell_type": "code",
   "execution_count": 11,
   "metadata": {
    "hidden": true
   },
   "outputs": [
    {
     "data": {
      "text/plain": [
       "{0.2: {'knn': 0.97583333333333333, 'rf': 1.0},\n",
       " 0.5: {'knn': 0.96866666666666668, 'rf': 1.0},\n",
       " 0.8: {'knn': 0.96604166666666669, 'rf': 1.0}}"
      ]
     },
     "execution_count": 11,
     "metadata": {},
     "output_type": "execute_result"
    }
   ],
   "source": [
    "avg_train_scores_by_split_clf_dict"
   ]
  },
  {
   "cell_type": "code",
   "execution_count": 12,
   "metadata": {
    "code_folding": [
     0
    ],
    "hidden": true
   },
   "outputs": [
    {
     "data": {
      "text/plain": [
       "<matplotlib.figure.Figure at 0x7f9c12fe9780>"
      ]
     },
     "metadata": {},
     "output_type": "display_data"
    },
    {
     "data": {
      "image/png": "[encoded data removed]",
      "text/plain": [
       "<matplotlib.figure.Figure at 0x7f9c12fa78d0>"
      ]
     },
     "metadata": {
      "image/png": {
       "height": 206,
       "width": 477
      }
     },
     "output_type": "display_data"
    }
   ],
   "source": [
    "### Plot train/test scores avg'ed across shuffles and datasets, by clf\n",
    "# Train/test accuracy averaged across random shuffles and data by clf\n",
    "\n",
    "# Plottable df\n",
    "avg_scores_by_split_cf_df = pd.DataFrame(columns = ['train_split',\n",
    "                                                   'clf_name',\n",
    "                                                   'accuracy_type',\n",
    "                                                   'accuracy'])\n",
    "\n",
    "for train_split, clf_score_dict in avg_train_scores_by_split_clf_dict.items():\n",
    "    for clf_name, score in clf_score_dict.items():\n",
    "        train_score_row = {'train_split':   train_split,\n",
    "                          'clf_name':      clf_name,\n",
    "                          'accuracy_type': 'train',\n",
    "                          'accuracy':      avg_train_scores_by_split_clf_dict[train_split][clf_name]}\n",
    "        test_score_row = {'train_split':   train_split,\n",
    "                          'clf_name':      clf_name,\n",
    "                          'accuracy_type': 'test',\n",
    "                          'accuracy':      avg_test_scores_by_split_clf_dict[train_split][clf_name]}\n",
    "        \n",
    "        avg_scores_by_split_cf_df = \\\n",
    "                avg_scores_by_split_cf_df.append(train_score_row, ignore_index=True)\n",
    "        avg_scores_by_split_cf_df = \\\n",
    "                avg_scores_by_split_cf_df.append(test_score_row, ignore_index=True)\n",
    "\n",
    "            \n",
    "plt.figure()\n",
    "sns_plot = sns.FacetGrid(avg_scores_by_split_cf_df, col='accuracy_type', hue='clf_name')\n",
    "sns_plot.map(sns.pointplot, 'train_split', 'accuracy')\n",
    "sns_plot.add_legend()\n",
    "plt.show()"
   ]
  },
  {
   "cell_type": "code",
   "execution_count": 13,
   "metadata": {
    "code_folding": [
     0
    ],
    "hidden": true
   },
   "outputs": [
    {
     "data": {
      "text/html": [
       "<div>\n",
       "<style>\n",
       "    .dataframe thead tr:only-child th {\n",
       "        text-align: right;\n",
       "    }\n",
       "\n",
       "    .dataframe thead th {\n",
       "        text-align: left;\n",
       "    }\n",
       "\n",
       "    .dataframe tbody tr th {\n",
       "        vertical-align: top;\n",
       "    }\n",
       "</style>\n",
       "<table border=\"1\" class=\"dataframe\">\n",
       "  <thead>\n",
       "    <tr style=\"text-align: right;\">\n",
       "      <th>data_name</th>\n",
       "      <th>iris</th>\n",
       "      <th>wdbc</th>\n",
       "    </tr>\n",
       "  </thead>\n",
       "  <tbody>\n",
       "    <tr>\n",
       "      <th>knn</th>\n",
       "      <td>0.966667</td>\n",
       "      <td>0.945</td>\n",
       "    </tr>\n",
       "    <tr>\n",
       "      <th>rf</th>\n",
       "      <td>0.950000</td>\n",
       "      <td>0.970</td>\n",
       "    </tr>\n",
       "  </tbody>\n",
       "</table>\n",
       "</div>"
      ],
      "text/plain": [
       "data_name      iris   wdbc\n",
       "knn        0.966667  0.945\n",
       "rf         0.950000  0.970"
      ]
     },
     "execution_count": 13,
     "metadata": {},
     "output_type": "execute_result"
    }
   ],
   "source": [
    "### Classifier testing performance by dataset and clf, train_split=0.8\n",
    "test_score_by_data_clf_df = pd.DataFrame()\n",
    "\n",
    "for data_name, score_clf_dict in splits_shuffles_avg_test_scores_dict[0.8].items():\n",
    "    data_row = {'data_name': data_name}\n",
    "    for clf_name, score in score_clf_dict.items():\n",
    "        data_row[clf_name] = score\n",
    "    test_score_by_data_clf_df = test_score_by_data_clf_df.append(data_row, ignore_index=True)\n",
    "\n",
    "test_score_by_data_clf_df = test_score_by_data_clf_df.set_index('data_name')\n",
    "test_score_by_data_clf_df = test_score_by_data_clf_df.transpose()\n",
    "test_score_by_data_clf_df"
   ]
  },
  {
   "cell_type": "markdown",
   "metadata": {
    "hidden": true
   },
   "source": [
    "TODO:\n",
    "- Make object that hands back best classifier for dataset"
   ]
  }
 ],
 "metadata": {
  "kernelspec": {
   "display_name": "Python 3",
   "language": "python",
   "name": "python3"
  },
  "language_info": {
   "codemirror_mode": {
    "name": "ipython",
    "version": 3
   },
   "file_extension": ".py",
   "mimetype": "text/x-python",
   "name": "python",
   "nbconvert_exporter": "python",
   "pygments_lexer": "ipython3",
   "version": "3.6.3"
  }
 },
 "nbformat": 4,
 "nbformat_minor": 2
}
